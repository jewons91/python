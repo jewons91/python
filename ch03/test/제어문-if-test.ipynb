{
 "cells": [
  {
   "cell_type": "code",
   "execution_count": 1,
   "metadata": {},
   "outputs": [
    {
     "name": "stdout",
     "output_type": "stream",
     "text": [
      "택시 타라\n"
     ]
    }
   ],
   "source": [
    "money = -4800\n",
    "\n",
    "if money:\n",
    "    print('택시 타라')\n",
    "else:\n",
    "    print('걸어가라')"
   ]
  },
  {
   "cell_type": "code",
   "execution_count": 2,
   "metadata": {},
   "outputs": [
    {
     "name": "stdout",
     "output_type": "stream",
     "text": [
      "False\n",
      "True\n",
      "False\n",
      "True\n"
     ]
    }
   ],
   "source": [
    "x = 3\n",
    "y = 5\n",
    "print(x > y)\n",
    "print(x < y)\n",
    "print(x == y)\n",
    "print(x != y)"
   ]
  },
  {
   "cell_type": "code",
   "execution_count": 3,
   "metadata": {},
   "outputs": [
    {
     "name": "stdout",
     "output_type": "stream",
     "text": [
      "걸어가라\n"
     ]
    }
   ],
   "source": [
    "money = 4000\n",
    "\n",
    "if money >= 4800:\n",
    "    print('택시 타라')\n",
    "else:\n",
    "    print('걸어가라')"
   ]
  },
  {
   "cell_type": "code",
   "execution_count": 4,
   "metadata": {},
   "outputs": [
    {
     "name": "stdout",
     "output_type": "stream",
     "text": [
      "걸어가라\n"
     ]
    }
   ],
   "source": [
    "money = 0\n",
    "card = 0\n",
    "\n",
    "if money >= 4800 or card:\n",
    "    print('택시 타지롱!')\n",
    "else:\n",
    "    print('걸어가라')"
   ]
  },
  {
   "cell_type": "code",
   "execution_count": 5,
   "metadata": {},
   "outputs": [
    {
     "name": "stdout",
     "output_type": "stream",
     "text": [
      "택시 타라\n"
     ]
    }
   ],
   "source": [
    "pocket = ['paper','phone','money']\n",
    "\n",
    "if 'money' in pocket:\n",
    "    print('택시 타라')\n",
    "else:\n",
    "    print('걸어가라')"
   ]
  },
  {
   "cell_type": "code",
   "execution_count": 6,
   "metadata": {},
   "outputs": [],
   "source": [
    "pocket = ['paper','money','phone']\n",
    "\n",
    "if 'money' in pocket:\n",
    "    pass\n",
    "else:\n",
    "    print('카드 꺼내라')"
   ]
  },
  {
   "cell_type": "code",
   "execution_count": 7,
   "metadata": {},
   "outputs": [
    {
     "name": "stdout",
     "output_type": "stream",
     "text": [
      "택시 타라\n"
     ]
    }
   ],
   "source": [
    "pocket = ['paper','phone']\n",
    "card = 1\n",
    "\n",
    "if 'money' in pocket:\n",
    "    print('택시 타라')\n",
    "else:\n",
    "    if card:\n",
    "        print('택시 타라')\n",
    "    else:\n",
    "        print('걸어가라')"
   ]
  },
  {
   "cell_type": "code",
   "execution_count": 8,
   "metadata": {},
   "outputs": [
    {
     "name": "stdout",
     "output_type": "stream",
     "text": [
      "카드로 택시 타라\n"
     ]
    }
   ],
   "source": [
    "if 'money' in pocket:\n",
    "    print('현금으로 택시 타라')\n",
    "elif card:\n",
    "    print('카드로 택시 타라')\n",
    "else:\n",
    "    print('그냥 걸어가라')"
   ]
  },
  {
   "cell_type": "code",
   "execution_count": 9,
   "metadata": {},
   "outputs": [],
   "source": [
    "pocket = ['paper','phone','money']\n",
    "card = 1\n",
    "if 'money' in pocket : pass\n",
    "else :\n",
    "    print('카드를 꺼내라')"
   ]
  }
 ],
 "metadata": {
  "kernelspec": {
   "display_name": "test",
   "language": "python",
   "name": "python3"
  },
  "language_info": {
   "codemirror_mode": {
    "name": "ipython",
    "version": 3
   },
   "file_extension": ".py",
   "mimetype": "text/x-python",
   "name": "python",
   "nbconvert_exporter": "python",
   "pygments_lexer": "ipython3",
   "version": "3.10.14"
  }
 },
 "nbformat": 4,
 "nbformat_minor": 2
}
