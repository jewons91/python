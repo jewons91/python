{
 "cells": [
  {
   "cell_type": "code",
   "execution_count": 1,
   "metadata": {},
   "outputs": [
    {
     "name": "stdout",
     "output_type": "stream",
     "text": [
      "나무를 1번 찍었습니다\n",
      "나무를 2번 찍었습니다\n",
      "나무를 3번 찍었습니다\n",
      "나무를 4번 찍었습니다\n",
      "나무를 5번 찍었습니다\n",
      "나무를 6번 찍었습니다\n",
      "나무를 7번 찍었습니다\n",
      "나무를 8번 찍었습니다\n",
      "나무를 9번 찍었습니다\n",
      "나무를 10번 찍었습니다\n",
      "나무 넘어갑니다\n"
     ]
    }
   ],
   "source": [
    "treeHit = 0\n",
    "\n",
    "while treeHit < 10 :\n",
    "    treeHit += 1\n",
    "    print(f'나무를 {treeHit}번 찍었습니다')\n",
    "    if treeHit == 10:\n",
    "        print('나무 넘어갑니다')"
   ]
  },
  {
   "cell_type": "code",
   "execution_count": 2,
   "metadata": {},
   "outputs": [
    {
     "name": "stdout",
     "output_type": "stream",
     "text": [
      "\n",
      "1. ADD\n",
      "2. DELETE\n",
      "3. LIST\n",
      "4. QUIT\n",
      "\n",
      "ENTER NUMBER :\n",
      "\n"
     ]
    }
   ],
   "source": [
    "promt = '''\n",
    "1. ADD\n",
    "2. DELETE\n",
    "3. LIST\n",
    "4. QUIT\n",
    "\n",
    "ENTER NUMBER :\n",
    "'''\n",
    "print(promt)"
   ]
  },
  {
   "cell_type": "code",
   "execution_count": 3,
   "metadata": {},
   "outputs": [
    {
     "name": "stdout",
     "output_type": "stream",
     "text": [
      "\n",
      "1. ADD\n",
      "2. DELETE\n",
      "3. LIST\n",
      "4. QUIT\n",
      "\n",
      "ENTER NUMBER :\n",
      "\n",
      "\n",
      "1. ADD\n",
      "2. DELETE\n",
      "3. LIST\n",
      "4. QUIT\n",
      "\n",
      "ENTER NUMBER :\n",
      "\n",
      "\n",
      "1. ADD\n",
      "2. DELETE\n",
      "3. LIST\n",
      "4. QUIT\n",
      "\n",
      "ENTER NUMBER :\n",
      "\n",
      "\n",
      "1. ADD\n",
      "2. DELETE\n",
      "3. LIST\n",
      "4. QUIT\n",
      "\n",
      "ENTER NUMBER :\n",
      "\n",
      "\n",
      "1. ADD\n",
      "2. DELETE\n",
      "3. LIST\n",
      "4. QUIT\n",
      "\n",
      "ENTER NUMBER :\n",
      "\n",
      "\n",
      "1. ADD\n",
      "2. DELETE\n",
      "3. LIST\n",
      "4. QUIT\n",
      "\n",
      "ENTER NUMBER :\n",
      "\n"
     ]
    }
   ],
   "source": [
    "number = 0\n",
    "while number != 4:\n",
    "    print(promt)\n",
    "    number = int(input())"
   ]
  },
  {
   "cell_type": "code",
   "execution_count": 4,
   "metadata": {},
   "outputs": [
    {
     "name": "stdout",
     "output_type": "stream",
     "text": [
      "33 서제원\n"
     ]
    }
   ],
   "source": [
    "age = input('나이 입력 : ')\n",
    "name = input('이름 입력 : ')\n",
    "print(age, name)"
   ]
  },
  {
   "cell_type": "code",
   "execution_count": 5,
   "metadata": {},
   "outputs": [
    {
     "name": "stdout",
     "output_type": "stream",
     "text": [
      "돈을 받았음\n",
      "남은 커피의 양은 9 개입니다.\n",
      "돈을 받았음\n",
      "남은 커피의 양은 8 개입니다.\n",
      "돈을 받았음\n",
      "남은 커피의 양은 7 개입니다.\n",
      "돈을 받았음\n",
      "남은 커피의 양은 6 개입니다.\n",
      "돈을 받았음\n",
      "남은 커피의 양은 5 개입니다.\n",
      "돈을 받았음\n",
      "남은 커피의 양은 4 개입니다.\n",
      "돈을 받았음\n",
      "남은 커피의 양은 3 개입니다.\n",
      "돈을 받았음\n",
      "남은 커피의 양은 2 개입니다.\n",
      "돈을 받았음\n",
      "남은 커피의 양은 1 개입니다.\n",
      "돈을 받았음\n",
      "남은 커피의 양은 0 개입니다.\n",
      "커피 없다\n"
     ]
    }
   ],
   "source": [
    "coffee = 10\n",
    "money = 300\n",
    "while money:\n",
    "    print('돈을 받았음')\n",
    "    coffee -= 1\n",
    "    print(f'남은 커피의 양은 {coffee} 개입니다.')\n",
    "    if not coffee:\n",
    "        print('커피 없다')\n",
    "        break"
   ]
  },
  {
   "cell_type": "code",
   "execution_count": 7,
   "metadata": {},
   "outputs": [
    {
     "name": "stdout",
     "output_type": "stream",
     "text": [
      "커피 한잔 받으시오~~\n",
      "300원 입금\n",
      "거스름돈 200를 주고 커피 준다\n",
      "거스름돈 100를 주고 커피 준다\n",
      "거스름돈 300를 주고 커피 준다\n",
      "거스름돈 400를 주고 커피 준다\n",
      "커피 한잔 받으시오~~\n",
      "거스름돈 100를 주고 커피 준다\n",
      "거스름돈 700를 주고 커피 준다\n",
      "커피 한잔 받으시오~~\n",
      "거스름돈 100를 주고 커피 준다\n",
      "커피 다 떨어졌어요, 판매중지\n"
     ]
    }
   ],
   "source": [
    "coffee = 10\n",
    "\n",
    "while True:\n",
    "    money = int(input('돈 입력'))\n",
    "    if money == 300:\n",
    "        print('커피 한잔 받으시오~~')\n",
    "        coffee -= 1\n",
    "    elif money > 300:\n",
    "        print(f'거스름돈 {money-300}를 주고 커피 준다')\n",
    "        coffee -= 1\n",
    "    else:\n",
    "        print('300원 입금')\n",
    "        \n",
    "    if not coffee :\n",
    "        print('커피 다 떨어졌어요, 판매중지')\n",
    "        break"
   ]
  },
  {
   "cell_type": "code",
   "execution_count": 8,
   "metadata": {},
   "outputs": [
    {
     "name": "stdout",
     "output_type": "stream",
     "text": [
      "아무거나\n"
     ]
    }
   ],
   "source": [
    "print('아무거나')"
   ]
  },
  {
   "cell_type": "code",
   "execution_count": 12,
   "metadata": {},
   "outputs": [
    {
     "name": "stdout",
     "output_type": "stream",
     "text": [
      "1\n",
      "3\n",
      "5\n",
      "7\n",
      "9\n",
      "1,3,5,7,9,1\n",
      "3\n",
      "5\n",
      "7\n",
      "9\n",
      "[0, 1, 2, 3, 4, 5, 6, 7, 8, 9]\n"
     ]
    }
   ],
   "source": [
    "number = 1\n",
    "while number < 11:\n",
    "    if number % 2:\n",
    "        print(number)\n",
    "    number += 1\n",
    "    \n",
    "a = 0\n",
    "while a < 10:\n",
    "    a += 1\n",
    "    if a % 2 == 0:\n",
    "        continue\n",
    "    print(a, end=',')\n",
    "    \n",
    "for k in range(10):\n",
    "    if k % 2 == 0:\n",
    "        continue\n",
    "    print(k)\n",
    "    \n",
    "print(list(range(10)))"
   ]
  }
 ],
 "metadata": {
  "kernelspec": {
   "display_name": "test",
   "language": "python",
   "name": "python3"
  },
  "language_info": {
   "codemirror_mode": {
    "name": "ipython",
    "version": 3
   },
   "file_extension": ".py",
   "mimetype": "text/x-python",
   "name": "python",
   "nbconvert_exporter": "python",
   "pygments_lexer": "ipython3",
   "version": "3.10.14"
  }
 },
 "nbformat": 4,
 "nbformat_minor": 2
}
