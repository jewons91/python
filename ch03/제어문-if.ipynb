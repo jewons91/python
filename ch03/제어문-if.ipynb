{
 "cells": [
  {
   "cell_type": "code",
   "execution_count": 11,
   "metadata": {},
   "outputs": [
    {
     "name": "stdout",
     "output_type": "stream",
     "text": [
      "택시 타라\n"
     ]
    }
   ],
   "source": [
    "# 돈이 있으면 택시 타고, 없으면 걸어가라\n",
    "money = -4800\n",
    "\n",
    "if money:\n",
    "    print('택시 타라')\n",
    "else:\n",
    "    print('걸어가라ㅋ')"
   ]
  },
  {
   "cell_type": "code",
   "execution_count": 14,
   "metadata": {},
   "outputs": [
    {
     "name": "stdout",
     "output_type": "stream",
     "text": [
      "False\n",
      "True\n",
      "False\n",
      "True\n"
     ]
    }
   ],
   "source": [
    "# 비교 연산자\n",
    "x = 3\n",
    "y = 5\n",
    "print(x > y)\n",
    "print(x < y)\n",
    "print(x == y)\n",
    "print(x != y)"
   ]
  },
  {
   "cell_type": "code",
   "execution_count": 16,
   "metadata": {},
   "outputs": [
    {
     "name": "stdout",
     "output_type": "stream",
     "text": [
      "걸어가라\n"
     ]
    }
   ],
   "source": [
    "# 돈이 4800원 이상이면 택시 타고, 이하면 걸어가라\n",
    "money = 4000\n",
    "\n",
    "if money >= 4800 :\n",
    "    print('택시 타라')\n",
    "else :\n",
    "    print('걸어가라')"
   ]
  },
  {
   "cell_type": "code",
   "execution_count": 19,
   "metadata": {},
   "outputs": [
    {
     "name": "stdout",
     "output_type": "stream",
     "text": [
      "걸어가라\n"
     ]
    }
   ],
   "source": [
    "# 논리 연산자 => or, and, not\n",
    "# 현금이 4800원 이상이거나, 카드가 있으면 택시타고, 둘다 없으면 걸어가라\n",
    "money = 0 # 현금 없다\n",
    "card = 0 # 있다, 0 => 없다\n",
    "\n",
    "if money >= 4800 or card :\n",
    "    print('택시 타지롱!')\n",
    "else :\n",
    "    print('걸어가라')"
   ]
  },
  {
   "cell_type": "code",
   "execution_count": 21,
   "metadata": {},
   "outputs": [
    {
     "name": "stdout",
     "output_type": "stream",
     "text": [
      "택시 타라\n"
     ]
    }
   ],
   "source": [
    "# 주머니 안에 돈이 있거나 있으면 택시 타고, 없으면 걸어가라\n",
    "pocket = ['paper','phone','money']\n",
    "\n",
    "if 'money' in pocket : # True\n",
    "    print('택시 타라')\n",
    "else :\n",
    "    print('걸어가라')"
   ]
  },
  {
   "cell_type": "code",
   "execution_count": 22,
   "metadata": {},
   "outputs": [],
   "source": [
    "# 주머니 안에 돈이 있으면 가만히 있고, 주머니에 돈이 없으면 카드를 꺼내라\n",
    "pocket = ['paper','money','phone']\n",
    "\n",
    "if 'money' in pocket :\n",
    "    pass # True\n",
    "else :\n",
    "    print('카드 꺼내라')"
   ]
  },
  {
   "cell_type": "code",
   "execution_count": 24,
   "metadata": {},
   "outputs": [
    {
     "name": "stdout",
     "output_type": "stream",
     "text": [
      "택시 타라\n"
     ]
    }
   ],
   "source": [
    "# 주머니 안에 돈이 있으면 택시 타고, 주머니 안에 돈은 없지만 카드가 있으면 택시 타고, 둘 다 없으면 걸어가라\n",
    "pocket = ['paper','phone']\n",
    "card = 1 # 카드가 있다\n",
    "\n",
    "if 'money' in pocket :\n",
    "    print('택시 타라')\n",
    "else : # 돈이 없다\n",
    "    if card:\n",
    "        print('택시 타라')\n",
    "    else:\n",
    "        print('걸어가라')"
   ]
  },
  {
   "cell_type": "code",
   "execution_count": 26,
   "metadata": {},
   "outputs": [
    {
     "name": "stdout",
     "output_type": "stream",
     "text": [
      "카드로 택시 타라\n"
     ]
    }
   ],
   "source": [
    "if 'money' in pocket:\n",
    "    print('현금으로 택시 타라')\n",
    "elif card:\n",
    "    print('카드로 택시 타라')\n",
    "else:\n",
    "    print('그냥 걸어가라')"
   ]
  },
  {
   "cell_type": "code",
   "execution_count": 30,
   "metadata": {},
   "outputs": [],
   "source": [
    "# if 문을 한줄에 작성 => 사용하지 마세요\n",
    "pocket = ['paper','phone','money']\n",
    "card = 1 # 카드가 있다\n",
    "# if 'money' in pocket : \n",
    "#     pass\n",
    "if 'money' in pocket : pass\n",
    "else :\n",
    "    print('카드를 꺼내라')"
   ]
  }
 ],
 "metadata": {
  "kernelspec": {
   "display_name": "test",
   "language": "python",
   "name": "python3"
  },
  "language_info": {
   "codemirror_mode": {
    "name": "ipython",
    "version": 3
   },
   "file_extension": ".py",
   "mimetype": "text/x-python",
   "name": "python",
   "nbconvert_exporter": "python",
   "pygments_lexer": "ipython3",
   "version": "3.10.14"
  }
 },
 "nbformat": 4,
 "nbformat_minor": 2
}
