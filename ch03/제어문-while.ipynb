{
 "cells": [
  {
   "cell_type": "code",
   "execution_count": 1,
   "metadata": {},
   "outputs": [],
   "source": [
    "# while 기본 구조\n",
    "# while 조건문: True일때 아래 코드들이 실행\n",
    "#     코드\n",
    "#     코드\n",
    "#     ."
   ]
  },
  {
   "cell_type": "code",
   "execution_count": 4,
   "metadata": {},
   "outputs": [
    {
     "name": "stdout",
     "output_type": "stream",
     "text": [
      "나무를 1번 찍었습니다\n",
      "나무를 2번 찍었습니다\n",
      "나무를 3번 찍었습니다\n",
      "나무를 4번 찍었습니다\n",
      "나무를 5번 찍었습니다\n",
      "나무를 6번 찍었습니다\n",
      "나무를 7번 찍었습니다\n",
      "나무를 8번 찍었습니다\n",
      "나무를 9번 찍었습니다\n",
      "나무를 10번 찍었습니다\n",
      "나무 넘어갑니다\n"
     ]
    }
   ],
   "source": [
    "# 열 번 찍어 안 넘어 가는 나무 없다.\n",
    "treeHit = 0\n",
    "\n",
    "while treeHit < 10 :\n",
    "    treeHit += 1 # 1씩 증가\n",
    "    print(f'나무를 {treeHit}번 찍었습니다')\n",
    "    if treeHit == 10 :\n",
    "        print('나무 넘어갑니다')"
   ]
  },
  {
   "cell_type": "code",
   "execution_count": 6,
   "metadata": {},
   "outputs": [
    {
     "name": "stdout",
     "output_type": "stream",
     "text": [
      "\n",
      "1. ADD\n",
      "2. DELETE\n",
      "3. LIST\n",
      "4. QUIT\n",
      "\n",
      "ENTER NUMBER : \n",
      "\n"
     ]
    }
   ],
   "source": [
    "# 연락처 프로그램 메뉴 처리\n",
    "# 여러줄 문자열 선언\n",
    "prompt = '''\n",
    "1. ADD\n",
    "2. DELETE\n",
    "3. LIST\n",
    "4. QUIT\n",
    "\n",
    "ENTER NUMBER : \n",
    "'''\n",
    "print(prompt)"
   ]
  },
  {
   "cell_type": "code",
   "execution_count": 7,
   "metadata": {},
   "outputs": [
    {
     "name": "stdout",
     "output_type": "stream",
     "text": [
      "\n",
      "1. ADD\n",
      "2. DELETE\n",
      "3. LIST\n",
      "4. QUIT\n",
      "\n",
      "ENTER NUMBER : \n",
      "\n",
      "\n",
      "1. ADD\n",
      "2. DELETE\n",
      "3. LIST\n",
      "4. QUIT\n",
      "\n",
      "ENTER NUMBER : \n",
      "\n"
     ]
    }
   ],
   "source": [
    "number = 0\n",
    "while number != 4 : # 키보드에서 입력한 값이 4이면 반복 종료\n",
    "    print(prompt)\n",
    "    number = int(input()) # input() 키보드 입력 받는 함수\n",
    "    "
   ]
  },
  {
   "cell_type": "code",
   "execution_count": 10,
   "metadata": {},
   "outputs": [
    {
     "name": "stdout",
     "output_type": "stream",
     "text": [
      "33 서제원\n"
     ]
    }
   ],
   "source": [
    "age = input('나이 입력 : ')\n",
    "name = input('이름 입력 : ')\n",
    "print(age, name)"
   ]
  },
  {
   "cell_type": "code",
   "execution_count": 11,
   "metadata": {},
   "outputs": [
    {
     "name": "stdout",
     "output_type": "stream",
     "text": [
      "돈을 받았음\n",
      "남은 커피의 양은 9 개입니다.\n",
      "돈을 받았음\n",
      "남은 커피의 양은 8 개입니다.\n",
      "돈을 받았음\n",
      "남은 커피의 양은 7 개입니다.\n",
      "돈을 받았음\n",
      "남은 커피의 양은 6 개입니다.\n",
      "돈을 받았음\n",
      "남은 커피의 양은 5 개입니다.\n",
      "돈을 받았음\n",
      "남은 커피의 양은 4 개입니다.\n",
      "돈을 받았음\n",
      "남은 커피의 양은 3 개입니다.\n",
      "돈을 받았음\n",
      "남은 커피의 양은 2 개입니다.\n",
      "돈을 받았음\n",
      "남은 커피의 양은 1 개입니다.\n",
      "돈을 받았음\n",
      "남은 커피의 양은 0 개입니다.\n",
      "커피 없다.\n"
     ]
    }
   ],
   "source": [
    "# 1단계 자판기\n",
    "# 커피 : 10잔 , 한잔 가격 300원\n",
    "coffee = 10\n",
    "money = 300\n",
    "\n",
    "while money: # 무한 반복\n",
    "    print('돈을 받았음')\n",
    "    coffee -= 1\n",
    "    print(f'남은 커피의 양은 {coffee} 개입니다.')\n",
    "    if not coffee: # 0이면\n",
    "        print('커피 없다.')\n",
    "        break"
   ]
  },
  {
   "cell_type": "code",
   "execution_count": 13,
   "metadata": {},
   "outputs": [
    {
     "name": "stdout",
     "output_type": "stream",
     "text": [
      "300원 입금\n",
      "커피 한잔 받으시오~~~\n",
      "거스름돈 200를 주고 커피 준다\n",
      "커피 한잔 받으시오~~~\n",
      "커피 한잔 받으시오~~~\n",
      "커피 한잔 받으시오~~~\n"
     ]
    },
    {
     "ename": "KeyboardInterrupt",
     "evalue": "Interrupted by user",
     "output_type": "error",
     "traceback": [
      "\u001b[1;31m---------------------------------------------------------------------------\u001b[0m",
      "\u001b[1;31mKeyboardInterrupt\u001b[0m                         Traceback (most recent call last)",
      "Cell \u001b[1;32mIn[13], line 5\u001b[0m\n\u001b[0;32m      2\u001b[0m coffee \u001b[38;5;241m=\u001b[39m \u001b[38;5;241m10\u001b[39m\n\u001b[0;32m      4\u001b[0m \u001b[38;5;28;01mwhile\u001b[39;00m \u001b[38;5;28;01mTrue\u001b[39;00m: \u001b[38;5;66;03m# 무한반복 => 조건 => break\u001b[39;00m\n\u001b[1;32m----> 5\u001b[0m     money \u001b[38;5;241m=\u001b[39m \u001b[38;5;28mint\u001b[39m(\u001b[38;5;28;43minput\u001b[39;49m\u001b[43m(\u001b[49m\u001b[38;5;124;43m'\u001b[39;49m\u001b[38;5;124;43m돈 입력\u001b[39;49m\u001b[38;5;124;43m'\u001b[39;49m\u001b[43m)\u001b[49m) \u001b[38;5;66;03m# 키보드 입력되는 값들은 다 문자열\u001b[39;00m\n\u001b[0;32m      6\u001b[0m     \u001b[38;5;28;01mif\u001b[39;00m money \u001b[38;5;241m==\u001b[39m \u001b[38;5;241m300\u001b[39m: \u001b[38;5;66;03m# 40 > 300 False, '40' > '300' True\u001b[39;00m\n\u001b[0;32m      7\u001b[0m         \u001b[38;5;28mprint\u001b[39m(\u001b[38;5;124m'\u001b[39m\u001b[38;5;124m커피 한잔 받으시오~~~\u001b[39m\u001b[38;5;124m'\u001b[39m)\n",
      "File \u001b[1;32mc:\\ProgramData\\anaconda3\\envs\\test\\lib\\site-packages\\ipykernel\\kernelbase.py:1282\u001b[0m, in \u001b[0;36mKernel.raw_input\u001b[1;34m(self, prompt)\u001b[0m\n\u001b[0;32m   1280\u001b[0m     msg \u001b[38;5;241m=\u001b[39m \u001b[38;5;124m\"\u001b[39m\u001b[38;5;124mraw_input was called, but this frontend does not support input requests.\u001b[39m\u001b[38;5;124m\"\u001b[39m\n\u001b[0;32m   1281\u001b[0m     \u001b[38;5;28;01mraise\u001b[39;00m StdinNotImplementedError(msg)\n\u001b[1;32m-> 1282\u001b[0m \u001b[38;5;28;01mreturn\u001b[39;00m \u001b[38;5;28;43mself\u001b[39;49m\u001b[38;5;241;43m.\u001b[39;49m\u001b[43m_input_request\u001b[49m\u001b[43m(\u001b[49m\n\u001b[0;32m   1283\u001b[0m \u001b[43m    \u001b[49m\u001b[38;5;28;43mstr\u001b[39;49m\u001b[43m(\u001b[49m\u001b[43mprompt\u001b[49m\u001b[43m)\u001b[49m\u001b[43m,\u001b[49m\n\u001b[0;32m   1284\u001b[0m \u001b[43m    \u001b[49m\u001b[38;5;28;43mself\u001b[39;49m\u001b[38;5;241;43m.\u001b[39;49m\u001b[43m_parent_ident\u001b[49m\u001b[43m[\u001b[49m\u001b[38;5;124;43m\"\u001b[39;49m\u001b[38;5;124;43mshell\u001b[39;49m\u001b[38;5;124;43m\"\u001b[39;49m\u001b[43m]\u001b[49m\u001b[43m,\u001b[49m\n\u001b[0;32m   1285\u001b[0m \u001b[43m    \u001b[49m\u001b[38;5;28;43mself\u001b[39;49m\u001b[38;5;241;43m.\u001b[39;49m\u001b[43mget_parent\u001b[49m\u001b[43m(\u001b[49m\u001b[38;5;124;43m\"\u001b[39;49m\u001b[38;5;124;43mshell\u001b[39;49m\u001b[38;5;124;43m\"\u001b[39;49m\u001b[43m)\u001b[49m\u001b[43m,\u001b[49m\n\u001b[0;32m   1286\u001b[0m \u001b[43m    \u001b[49m\u001b[43mpassword\u001b[49m\u001b[38;5;241;43m=\u001b[39;49m\u001b[38;5;28;43;01mFalse\u001b[39;49;00m\u001b[43m,\u001b[49m\n\u001b[0;32m   1287\u001b[0m \u001b[43m\u001b[49m\u001b[43m)\u001b[49m\n",
      "File \u001b[1;32mc:\\ProgramData\\anaconda3\\envs\\test\\lib\\site-packages\\ipykernel\\kernelbase.py:1325\u001b[0m, in \u001b[0;36mKernel._input_request\u001b[1;34m(self, prompt, ident, parent, password)\u001b[0m\n\u001b[0;32m   1322\u001b[0m \u001b[38;5;28;01mexcept\u001b[39;00m \u001b[38;5;167;01mKeyboardInterrupt\u001b[39;00m:\n\u001b[0;32m   1323\u001b[0m     \u001b[38;5;66;03m# re-raise KeyboardInterrupt, to truncate traceback\u001b[39;00m\n\u001b[0;32m   1324\u001b[0m     msg \u001b[38;5;241m=\u001b[39m \u001b[38;5;124m\"\u001b[39m\u001b[38;5;124mInterrupted by user\u001b[39m\u001b[38;5;124m\"\u001b[39m\n\u001b[1;32m-> 1325\u001b[0m     \u001b[38;5;28;01mraise\u001b[39;00m \u001b[38;5;167;01mKeyboardInterrupt\u001b[39;00m(msg) \u001b[38;5;28;01mfrom\u001b[39;00m \u001b[38;5;28;01mNone\u001b[39;00m\n\u001b[0;32m   1326\u001b[0m \u001b[38;5;28;01mexcept\u001b[39;00m \u001b[38;5;167;01mException\u001b[39;00m:\n\u001b[0;32m   1327\u001b[0m     \u001b[38;5;28mself\u001b[39m\u001b[38;5;241m.\u001b[39mlog\u001b[38;5;241m.\u001b[39mwarning(\u001b[38;5;124m\"\u001b[39m\u001b[38;5;124mInvalid Message:\u001b[39m\u001b[38;5;124m\"\u001b[39m, exc_info\u001b[38;5;241m=\u001b[39m\u001b[38;5;28;01mTrue\u001b[39;00m)\n",
      "\u001b[1;31mKeyboardInterrupt\u001b[0m: Interrupted by user"
     ]
    }
   ],
   "source": [
    "# 2단계 자판기 : 사용자 돈을 입력 (200, 500, 1000)\n",
    "coffee = 10\n",
    "\n",
    "while True: # 무한반복 => 조건 => break\n",
    "    money = int(input('돈 입력')) # 키보드 입력되는 값들은 다 문자열\n",
    "    if money == 300: # 40 > 300 False, '40' > '300' True\n",
    "        print('커피 한잔 받으시오~~~')\n",
    "        coffee -= 1\n",
    "    elif money > 300:\n",
    "        print(f'거스름돈 {money-300}를 주고 커피 준다')\n",
    "        coffee -= 1\n",
    "    else : # 300원보다 작게 입력\n",
    "        print('300원 입금')\n",
    "        \n",
    "    if not coffee :\n",
    "        print('커피 다 떨어졌어요, 판매중지')\n",
    "        break"
   ]
  },
  {
   "cell_type": "code",
   "execution_count": 14,
   "metadata": {},
   "outputs": [
    {
     "name": "stdout",
     "output_type": "stream",
     "text": [
      "아무거나\n"
     ]
    }
   ],
   "source": [
    "print('아무거나')"
   ]
  },
  {
   "cell_type": "code",
   "execution_count": 23,
   "metadata": {},
   "outputs": [
    {
     "name": "stdout",
     "output_type": "stream",
     "text": [
      "1,3,5,7,9,"
     ]
    }
   ],
   "source": [
    "# 1부터 10 사이 값 중 홀수만 출력\n",
    "# number = 1\n",
    "# while number < 11:\n",
    "#     if number % 2:\n",
    "#         print(number)\n",
    "#     number += 1\n",
    "a = 0\n",
    "while a < 10:\n",
    "    a += 1\n",
    "    if a % 2 == 0: # True => a가 짝수인 상태\n",
    "        continue\n",
    "    print(a, end=',')\n",
    "    \n",
    "# for k in range(10):\n",
    "#     if k % 2 == 0:\n",
    "#         continue\n",
    "#     print(k)\n",
    "\n",
    "# print(list(range(10)))"
   ]
  }
 ],
 "metadata": {
  "kernelspec": {
   "display_name": "test",
   "language": "python",
   "name": "python3"
  },
  "language_info": {
   "codemirror_mode": {
    "name": "ipython",
    "version": 3
   },
   "file_extension": ".py",
   "mimetype": "text/x-python",
   "name": "python",
   "nbconvert_exporter": "python",
   "pygments_lexer": "ipython3",
   "version": "3.10.14"
  }
 },
 "nbformat": 4,
 "nbformat_minor": 2
}
