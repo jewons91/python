{
 "cells": [
  {
   "cell_type": "markdown",
   "metadata": {},
   "source": [
    "---\n",
    "함수형 프로그래밍\n",
    "\n",
    "---\n",
    "\n",
    "-- 장점 : 코드의 가독성 높아지고 유지보수가 쉬워진다.\n",
    "\n",
    "    -- 순수함수를 사용하는 방식으로 코드의 예측 가능성이 높아진다\n",
    "\n",
    "    -- 디버깅(에러수정) 및 테스트 용이해진다.\n",
    "\n",
    "    -- 병렬 처리 용이해진다.\n",
    "    \n",
    "    -- 부품(모듈성)화 쉬워진다."
   ]
  },
  {
   "cell_type": "code",
   "execution_count": 3,
   "metadata": {},
   "outputs": [],
   "source": [
    "# 1. 순수함수 : 같은 입력에 대해 항상 같은 출력을 반환, 함수 외부의 상태를 변경하지 않는다.\n",
    "# 함수의 동작이 예측 가능 => 테스트, 디버깅이 쉬워진다.\n",
    "def pure_function(x, y):\n",
    "    return x + y"
   ]
  },
  {
   "cell_type": "code",
   "execution_count": 7,
   "metadata": {},
   "outputs": [],
   "source": [
    "# 2. 고차 함수(Higher-Order Function) : 다른 함수 인수로 받거나 함수를 반환하는 함수\n",
    "def add(x, y):\n",
    "    return x + y\n",
    "\n",
    "def multiply(x, y):\n",
    "    return x * y\n",
    "\n",
    "def apply_function(func, x, y):\n",
    "    return func(x, y)"
   ]
  },
  {
   "cell_type": "code",
   "execution_count": 10,
   "metadata": {},
   "outputs": [
    {
     "name": "stdout",
     "output_type": "stream",
     "text": [
      "20\n",
      "9\n"
     ]
    }
   ],
   "source": [
    "print(apply_function(multiply, 5, 4))\n",
    "print(apply_function(add, 5, 4))"
   ]
  },
  {
   "cell_type": "code",
   "execution_count": 11,
   "metadata": {},
   "outputs": [],
   "source": [
    "# 3. 일급 객체(First-Class) : 함수는 객체(object)로 처리된다.\n",
    "# 함수를 변수에 할당 가능, 다른 함수의 인자(파라미터)로 전달될 수 있다.\n",
    "# f = function() , apply_function(func)\n",
    "def square(x): # 제곱\n",
    "    return x ** 2\n",
    "\n",
    "def cube(x): # 3제곱\n",
    "    return x ** 3\n",
    "\n",
    "def select_function(name):\n",
    "    if name == 'square':\n",
    "        return square\n",
    "    elif name == 'cube':\n",
    "        return cube"
   ]
  },
  {
   "cell_type": "code",
   "execution_count": 15,
   "metadata": {},
   "outputs": [
    {
     "name": "stdout",
     "output_type": "stream",
     "text": [
      "4\n"
     ]
    }
   ],
   "source": [
    "# f = select_function('cube')\n",
    "f = select_function('square')\n",
    "print(f(2))"
   ]
  },
  {
   "cell_type": "code",
   "execution_count": 16,
   "metadata": {},
   "outputs": [],
   "source": [
    "# 4. 함수 합성(Function Composition)\n",
    "# 여러 작은 함수를 합성하여 새로운 함수 생성\n",
    "def increment(x): # 1 증가\n",
    "    return x + 1\n",
    "\n",
    "def double(x): # 2배 증가\n",
    "    return x * 2\n",
    "\n",
    "def compose(f,g): # f, g 함수를 받는 파라미터\n",
    "    # lambda x(파라미터) : f(g(x)) (return)\n",
    "    # def aaa(x):\n",
    "    #     return f(g(x))\n",
    "    return lambda x: f(g(x)) # lambda : 익명 함수 object 생성"
   ]
  },
  {
   "cell_type": "code",
   "execution_count": 18,
   "metadata": {},
   "outputs": [
    {
     "data": {
      "text/plain": [
       "8"
      ]
     },
     "execution_count": 18,
     "metadata": {},
     "output_type": "execute_result"
    }
   ],
   "source": [
    "composed_function = compose(double, increment) # return double(increment(x))\n",
    "composed_function(3)"
   ]
  },
  {
   "cell_type": "code",
   "execution_count": 20,
   "metadata": {},
   "outputs": [
    {
     "name": "stdout",
     "output_type": "stream",
     "text": [
      "6\n"
     ]
    }
   ],
   "source": [
    "# 재귀(Recursion) : 함수가 자기 자신을 다시 호출하는 것\n",
    "def factorial(n): # 3! = 3 * 2 * 1\n",
    "    if n == 0:\n",
    "        return 1\n",
    "    else:\n",
    "        return n * factorial(n-1) # 재귀함수\n",
    "\n",
    "print(factorial(3)) # 3 * 2 * 1 = 6"
   ]
  }
 ],
 "metadata": {
  "kernelspec": {
   "display_name": "test",
   "language": "python",
   "name": "python3"
  },
  "language_info": {
   "codemirror_mode": {
    "name": "ipython",
    "version": 3
   },
   "file_extension": ".py",
   "mimetype": "text/x-python",
   "name": "python",
   "nbconvert_exporter": "python",
   "pygments_lexer": "ipython3",
   "version": "3.10.14"
  }
 },
 "nbformat": 4,
 "nbformat_minor": 2
}
