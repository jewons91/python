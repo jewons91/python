{
 "cells": [
  {
   "cell_type": "code",
   "execution_count": 2,
   "metadata": {},
   "outputs": [
    {
     "name": "stdout",
     "output_type": "stream",
     "text": [
      "<class 'set'>\n",
      "<class 'set'>\n",
      "<class 'set'>\n"
     ]
    }
   ],
   "source": [
    "# 집합 생성\n",
    "# 단축키 정리\n",
    "# edit mode 에서 실행된다.\n",
    "# 1. 한줄 복사 : shift + alt + 화살키(위, 아래)\n",
    "# 2. 한줄 삭제 : ctrl + shift + k\n",
    "# 3. 한줄 이동 : alt + 화살키(위, 아래)\n",
    "s1 = set('aaaa') # string => set\n",
    "print(type(s1))\n",
    "s1 = set([1,2,3]) # list => set\n",
    "print(type(s1))\n",
    "s1 = set((1,2,3)) # tuple => set\n",
    "print(type(s1))"
   ]
  },
  {
   "cell_type": "code",
   "execution_count": 3,
   "metadata": {},
   "outputs": [
    {
     "name": "stdout",
     "output_type": "stream",
     "text": [
      "{'l', 'e', 'o', 'H'}\n"
     ]
    }
   ],
   "source": [
    "s2 = set('Hello')\n",
    "print(s2) # {'l', 'e', 'o', 'H'} => l 2개 : 1개 중복 제거"
   ]
  },
  {
   "cell_type": "code",
   "execution_count": 4,
   "metadata": {},
   "outputs": [
    {
     "name": "stdout",
     "output_type": "stream",
     "text": [
      "<class 'set'> <class 'list'>\n",
      "{1, 2, 3} [1, 2, 3]\n"
     ]
    }
   ],
   "source": [
    "# set => list 변환\n",
    "s1 = set([1,2,3])\n",
    "l1 = list(s1)\n",
    "print(type(s1), type(l1))\n",
    "print(s1, l1)"
   ]
  },
  {
   "cell_type": "code",
   "execution_count": 12,
   "metadata": {},
   "outputs": [
    {
     "name": "stdout",
     "output_type": "stream",
     "text": [
      "교집합\n",
      "{4, 5, 6}\n",
      "{4, 5, 6}\n",
      "합집합\n",
      "{1, 2, 3, 4, 5, 6, 7, 8, 9}\n",
      "{1, 2, 3, 4, 5, 6, 7, 8, 9}\n",
      "차집합\n",
      "{1, 2, 3}\n",
      "{8, 9, 7}\n",
      "{1, 2, 3}\n",
      "{8, 9, 7}\n"
     ]
    }
   ],
   "source": [
    "## 집합 연산 (합, 교, 차)\n",
    "s1 = set([1,2,3,4,5,6])\n",
    "s2 = set([4,5,6,7,8,9])\n",
    "# 교집합(&) : 양쪽 중복 값 추출\n",
    "print('교집합')\n",
    "print(s1 & s2)\n",
    "print(s1.intersection(s2))\n",
    "# 합집합(|)\n",
    "print('합집합')\n",
    "print(s1 | s2)\n",
    "print(s1.union(s2))\n",
    "# 차집합(-)\n",
    "print('차집합')\n",
    "print(s1 - s2) # {1, 2, 3}\n",
    "print(s2 - s1) # {8, 9, 7}\n",
    "print(s1.difference(s2)) # {1, 2, 3}\n",
    "print(s2.difference(s1)) # {8, 9, 7}"
   ]
  },
  {
   "cell_type": "code",
   "execution_count": 14,
   "metadata": {},
   "outputs": [
    {
     "name": "stdout",
     "output_type": "stream",
     "text": [
      "{1, 2, 3}\n",
      "{1, 2, 3, 4}\n"
     ]
    }
   ],
   "source": [
    "## set 관련 메소드\n",
    "## index 없다 => 순서가 없다 => 중복 허용 안된다.\n",
    "# 한개 추가 : add(value)\n",
    "s1 = set([1,2,3])\n",
    "print(s1)\n",
    "s1.add(4)\n",
    "print(s1)"
   ]
  },
  {
   "cell_type": "code",
   "execution_count": 21,
   "metadata": {},
   "outputs": [
    {
     "name": "stdout",
     "output_type": "stream",
     "text": [
      "None\n",
      "{1, 2, 3, 4, 5, 6}\n",
      "None\n",
      "{1, 2, 3, 4, 5, 6, 'b', 'c', 'a'}\n"
     ]
    }
   ],
   "source": [
    "# 여러개(리스트, 문자열, 튜플) 추가 : update(iterable)\n",
    "s1 = set([1,2,3])\n",
    "l1 = [4,5,6]\n",
    "str1 = 'abc'\n",
    "print(s1.update(l1)) # update(l1) return : None\n",
    "print(s1)\n",
    "print(s1.update(str1)) # None\n",
    "print(s1)"
   ]
  },
  {
   "cell_type": "code",
   "execution_count": 22,
   "metadata": {},
   "outputs": [
    {
     "name": "stdout",
     "output_type": "stream",
     "text": [
      "{1, 2, 3, 4, 5, 6, 'b', 'c', 'a'}\n",
      "None\n",
      "{1, 3, 4, 5, 6, 'b', 'c', 'a'}\n"
     ]
    }
   ],
   "source": [
    "# 제거 : remove(value)\n",
    "print(s1)\n",
    "print(s1.remove(2)) # remove return : None\n",
    "print(s1)"
   ]
  },
  {
   "cell_type": "code",
   "execution_count": 24,
   "metadata": {},
   "outputs": [
    {
     "name": "stdout",
     "output_type": "stream",
     "text": [
      "4\n",
      "3\n",
      "2\n",
      "1\n"
     ]
    }
   ],
   "source": [
    "# 데이터 타입의 True/False 처리\n",
    "a = [1,2,3,4]\n",
    "while a: # : block start\n",
    "    print(a.pop())"
   ]
  },
  {
   "cell_type": "code",
   "execution_count": 27,
   "metadata": {},
   "outputs": [
    {
     "name": "stdout",
     "output_type": "stream",
     "text": [
      "True\n"
     ]
    }
   ],
   "source": [
    "if [1]:\n",
    "    print('True')\n",
    "else:\n",
    "    print('False')"
   ]
  },
  {
   "cell_type": "code",
   "execution_count": 35,
   "metadata": {},
   "outputs": [
    {
     "name": "stdout",
     "output_type": "stream",
     "text": [
      "a :  python b :  life\n",
      "a :  python b :  life\n",
      "a :  python b :  life\n"
     ]
    }
   ],
   "source": [
    "# 변수를 만드는 여러가지 방법\n",
    "a, b = 'python', 'life' # tuple <= 주로 사용\n",
    "print('a : ', a, 'b : ', b)\n",
    "a, b = ('python', 'life') # tuple\n",
    "print('a : ', a, 'b : ', b)\n",
    "[a, b] = ['python', 'life'] # list\n",
    "print('a : ', a, 'b : ', b)"
   ]
  },
  {
   "cell_type": "code",
   "execution_count": 38,
   "metadata": {},
   "outputs": [
    {
     "name": "stdout",
     "output_type": "stream",
     "text": [
      "a : 3, b : 5\n",
      "a : 5, b : 3\n"
     ]
    }
   ],
   "source": [
    "# 활용 코드\n",
    "a = 3\n",
    "b = 5\n",
    "print(f'a : {a}, b : {b}')\n",
    "a, b = b, a\n",
    "print(f'a : {a}, b : {b}')"
   ]
  },
  {
   "cell_type": "code",
   "execution_count": 40,
   "metadata": {},
   "outputs": [
    {
     "name": "stdout",
     "output_type": "stream",
     "text": [
      "[1, 4, 3] [1, 4, 3]\n"
     ]
    }
   ],
   "source": [
    "a = [1,2,3]\n",
    "b = a\n",
    "a[1] = 4\n",
    "print(a, b)"
   ]
  },
  {
   "cell_type": "code",
   "execution_count": null,
   "metadata": {},
   "outputs": [],
   "source": [
    "# 복사\n",
    "a = [1,2,3]\n",
    "b = a[:] # 복사 대입\n",
    "c = a.copy() # 복사"
   ]
  }
 ],
 "metadata": {
  "kernelspec": {
   "display_name": "test",
   "language": "python",
   "name": "python3"
  },
  "language_info": {
   "codemirror_mode": {
    "name": "ipython",
    "version": 3
   },
   "file_extension": ".py",
   "mimetype": "text/x-python",
   "name": "python",
   "nbconvert_exporter": "python",
   "pygments_lexer": "ipython3",
   "version": "3.10.14"
  }
 },
 "nbformat": 4,
 "nbformat_minor": 2
}
