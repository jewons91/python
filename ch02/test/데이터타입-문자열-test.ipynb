{
 "cells": [
  {
   "cell_type": "code",
   "execution_count": 2,
   "metadata": {},
   "outputs": [
    {
     "name": "stdout",
     "output_type": "stream",
     "text": [
      "Hello\n",
      "<class 'str'>\n"
     ]
    }
   ],
   "source": [
    "a = 'Hello'\n",
    "print(a)\n",
    "print(type(a))"
   ]
  },
  {
   "cell_type": "code",
   "execution_count": 3,
   "metadata": {},
   "outputs": [
    {
     "data": {
      "text/plain": [
       "'Hello\\nWorld'"
      ]
     },
     "execution_count": 3,
     "metadata": {},
     "output_type": "execute_result"
    }
   ],
   "source": [
    "a = 'Hello\\nWorld'\n",
    "a"
   ]
  },
  {
   "cell_type": "code",
   "execution_count": 4,
   "metadata": {},
   "outputs": [
    {
     "name": "stdout",
     "output_type": "stream",
     "text": [
      "Hello\n",
      "World\n"
     ]
    }
   ],
   "source": [
    "print(a)"
   ]
  },
  {
   "cell_type": "code",
   "execution_count": 5,
   "metadata": {},
   "outputs": [
    {
     "data": {
      "text/plain": [
       "'Hello'"
      ]
     },
     "execution_count": 5,
     "metadata": {},
     "output_type": "execute_result"
    }
   ],
   "source": [
    "b = 'Hello'\n",
    "b"
   ]
  },
  {
   "cell_type": "code",
   "execution_count": 6,
   "metadata": {},
   "outputs": [
    {
     "name": "stdout",
     "output_type": "stream",
     "text": [
      "He say \"Hello\"\n"
     ]
    }
   ],
   "source": [
    "c = 'He say \"Hello\"'\n",
    "print(c)"
   ]
  },
  {
   "cell_type": "code",
   "execution_count": 7,
   "metadata": {},
   "outputs": [
    {
     "data": {
      "text/plain": [
       "'\\n우리는 지금 파이썬\\n데이터 타입을 배우고 있습니다.\\n화이팅!!!\\n'"
      ]
     },
     "execution_count": 7,
     "metadata": {},
     "output_type": "execute_result"
    }
   ],
   "source": [
    "a = '''\n",
    "우리는 지금 파이썬\n",
    "데이터 타입을 배우고 있습니다.\n",
    "화이팅!!!\n",
    "'''\n",
    "a"
   ]
  },
  {
   "cell_type": "code",
   "execution_count": 8,
   "metadata": {},
   "outputs": [
    {
     "name": "stdout",
     "output_type": "stream",
     "text": [
      "\n",
      "우리는 지금 파이썬\n",
      "데이터 타입을 배우고 있습니다.\n",
      "화이팅!!!\n",
      "\n"
     ]
    }
   ],
   "source": [
    "print(a)"
   ]
  },
  {
   "cell_type": "code",
   "execution_count": 9,
   "metadata": {},
   "outputs": [
    {
     "name": "stdout",
     "output_type": "stream",
     "text": [
      "Python is fun\n"
     ]
    }
   ],
   "source": [
    "head = 'Python'\n",
    "tail = ' is fun'\n",
    "print(head + tail)"
   ]
  },
  {
   "cell_type": "code",
   "execution_count": 10,
   "metadata": {},
   "outputs": [
    {
     "name": "stdout",
     "output_type": "stream",
     "text": [
      "==============================\n",
      "연락처 프로그램\n",
      "==============================\n"
     ]
    }
   ],
   "source": [
    "a = '='\n",
    "print(a * 30)\n",
    "print('연락처 프로그램')\n",
    "print(a * 30)"
   ]
  },
  {
   "cell_type": "code",
   "execution_count": 11,
   "metadata": {},
   "outputs": [
    {
     "name": "stdout",
     "output_type": "stream",
     "text": [
      "Life is too short!\n",
      "i\n",
      "L\n",
      "!\n"
     ]
    }
   ],
   "source": [
    "a = 'Life is too short!'\n",
    "print(a)\n",
    "print(a[1])\n",
    "print(a[0])\n",
    "print(a[-1])"
   ]
  },
  {
   "cell_type": "code",
   "execution_count": 12,
   "metadata": {},
   "outputs": [
    {
     "name": "stdout",
     "output_type": "stream",
     "text": [
      "Life is too short!\n"
     ]
    }
   ],
   "source": [
    "print(a)"
   ]
  },
  {
   "cell_type": "code",
   "execution_count": 13,
   "metadata": {},
   "outputs": [
    {
     "name": "stdout",
     "output_type": "stream",
     "text": [
      "Life\n",
      "Life \n"
     ]
    }
   ],
   "source": [
    "print(a[0:4])\n",
    "print(a[0:5])"
   ]
  },
  {
   "cell_type": "code",
   "execution_count": 14,
   "metadata": {},
   "outputs": [
    {
     "name": "stdout",
     "output_type": "stream",
     "text": [
      "Life is too short!\n",
      "too\n",
      "short!\n",
      "Life\n",
      "Life is too short!\n",
      "Life is too short!\n"
     ]
    }
   ],
   "source": [
    "print(a)\n",
    "print(a[8:11])\n",
    "print(a[12:])\n",
    "print(a[:4])\n",
    "print(a[:])\n",
    "print(a)"
   ]
  },
  {
   "cell_type": "code",
   "execution_count": 15,
   "metadata": {},
   "outputs": [
    {
     "name": "stdout",
     "output_type": "stream",
     "text": [
      "i\n",
      "i\n"
     ]
    }
   ],
   "source": [
    "a = 'Life'\n",
    "print(a[1:2])\n",
    "print(a[1])"
   ]
  },
  {
   "cell_type": "code",
   "execution_count": 17,
   "metadata": {},
   "outputs": [
    {
     "name": "stdout",
     "output_type": "stream",
     "text": [
      "Life\n",
      "Lifeb\n",
      "Lbfe\n"
     ]
    }
   ],
   "source": [
    "a = 'Life'\n",
    "\n",
    "b = a\n",
    "b = b + 'b'\n",
    "c = a[0] + 'b' + a[2:]\n",
    "\n",
    "print(a)\n",
    "print(b)\n",
    "print(c)"
   ]
  },
  {
   "cell_type": "code",
   "execution_count": 18,
   "metadata": {},
   "outputs": [
    {
     "name": "stdout",
     "output_type": "stream",
     "text": [
      "I eat 5 apples.\n",
      "I eat 5 apples.\n"
     ]
    }
   ],
   "source": [
    "cnt = 5\n",
    "print('I eat %d apples.' %cnt)\n",
    "print(f'I eat {cnt} apples.')"
   ]
  },
  {
   "cell_type": "code",
   "execution_count": 19,
   "metadata": {},
   "outputs": [
    {
     "name": "stdout",
     "output_type": "stream",
     "text": [
      "hi\n",
      "        hi\n",
      "hi        \n"
     ]
    }
   ],
   "source": [
    "print('%s'%'hi')\n",
    "print('%10s'%'hi')\n",
    "print('%-10s'%'hi')"
   ]
  },
  {
   "cell_type": "code",
   "execution_count": 20,
   "metadata": {},
   "outputs": [
    {
     "name": "stdout",
     "output_type": "stream",
     "text": [
      "hi        jane\n",
      "hi        tudent\n"
     ]
    }
   ],
   "source": [
    "print('%-10sjane'%'hi')\n",
    "print('%-10student'%'hi')"
   ]
  },
  {
   "cell_type": "code",
   "execution_count": 21,
   "metadata": {},
   "outputs": [
    {
     "name": "stdout",
     "output_type": "stream",
     "text": [
      "파이 : 3.141592\n",
      "파이 : 3.1416\n",
      "파이 :     3.1416\n",
      "파이 : 3.141592\n",
      "파이 : 3.1416\n",
      "파이 :     3.1416\n"
     ]
    }
   ],
   "source": [
    "print('파이 : %f'%3.141592)\n",
    "print('파이 : %0.4f'%3.141592)\n",
    "print('파이 : %10.4f'%3.141592)\n",
    "\n",
    "pi = 3.141592\n",
    "print(f'파이 : {pi}')\n",
    "print(f'파이 : {pi:0.4f}')\n",
    "print(f'파이 : {pi:10.4f}')"
   ]
  },
  {
   "cell_type": "code",
   "execution_count": 22,
   "metadata": {},
   "outputs": [
    {
     "name": "stdout",
     "output_type": "stream",
     "text": [
      "2\n",
      "1\n"
     ]
    }
   ],
   "source": [
    "a = 'hobby'\n",
    "print(a.count('b'))\n",
    "print(a.count('bb'))"
   ]
  },
  {
   "cell_type": "code",
   "execution_count": 23,
   "metadata": {},
   "outputs": [
    {
     "name": "stdout",
     "output_type": "stream",
     "text": [
      "1\n",
      "-1\n",
      "1\n",
      "찾는 문자열이 없습니다.\n"
     ]
    }
   ],
   "source": [
    "a = 'Life is too short'\n",
    "print(a.find('i'))\n",
    "print(a.find('m'))\n",
    "print(a.index('i'))\n",
    "try:\n",
    "    print(a.index('m'))\n",
    "except:\n",
    "    print('찾는 문자열이 없습니다.')"
   ]
  },
  {
   "cell_type": "code",
   "execution_count": 24,
   "metadata": {},
   "outputs": [
    {
     "name": "stdout",
     "output_type": "stream",
     "text": [
      "a,b,c,d\n"
     ]
    }
   ],
   "source": [
    "a = ','\n",
    "print(a.join('abcd'))"
   ]
  },
  {
   "cell_type": "code",
   "execution_count": 25,
   "metadata": {},
   "outputs": [
    {
     "name": "stdout",
     "output_type": "stream",
     "text": [
      "hi\n",
      "hi \n",
      "hi\n",
      "hi hi\n"
     ]
    }
   ],
   "source": [
    "a = 'hi '\n",
    "b = ' hi'\n",
    "c = ' hi '\n",
    "d = ' hi hi '\n",
    "print(a.rstrip())\n",
    "print(a.lstrip())\n",
    "print(c.strip())\n",
    "print(d.strip())"
   ]
  },
  {
   "cell_type": "code",
   "execution_count": 26,
   "metadata": {},
   "outputs": [
    {
     "name": "stdout",
     "output_type": "stream",
     "text": [
      "hihi\n"
     ]
    }
   ],
   "source": [
    "d = ' hi hi '\n",
    "print(d.replace(' ',''))"
   ]
  },
  {
   "cell_type": "code",
   "execution_count": 28,
   "metadata": {},
   "outputs": [
    {
     "name": "stdout",
     "output_type": "stream",
     "text": [
      "['Life', 'is', 'too', 'short']\n",
      "['a', 'b', 'c', 'd']\n"
     ]
    }
   ],
   "source": [
    "a = 'Life is too short'\n",
    "print(a.split())\n",
    "b = 'a:b:c:d'\n",
    "print(b.split(':'))"
   ]
  },
  {
   "cell_type": "code",
   "execution_count": 29,
   "metadata": {},
   "outputs": [
    {
     "data": {
      "text/plain": [
       "'I eat 4 apples 3'"
      ]
     },
     "execution_count": 29,
     "metadata": {},
     "output_type": "execute_result"
    }
   ],
   "source": [
    "'I eat {1} apples {0}'.format(3,4)"
   ]
  },
  {
   "cell_type": "code",
   "execution_count": 30,
   "metadata": {},
   "outputs": [
    {
     "name": "stdout",
     "output_type": "stream",
     "text": [
      "<class 'tuple'>\n",
      "7\n",
      "<class 'tuple'>\n",
      "6\n",
      "<class 'tuple'>\n",
      "55\n"
     ]
    }
   ],
   "source": [
    "def format(* aaa):\n",
    "    sum = 0\n",
    "    print(type(aaa))\n",
    "    for k in aaa:\n",
    "        sum += k\n",
    "    print(sum)\n",
    "    \n",
    "format(3,4)\n",
    "format(1,2,3)\n",
    "format(1,2,3,4,5,6,7,8,9,10)"
   ]
  },
  {
   "cell_type": "code",
   "execution_count": 33,
   "metadata": {},
   "outputs": [
    {
     "name": "stdout",
     "output_type": "stream",
     "text": [
      "I ate 10 apples, so I was sick for three days.\n"
     ]
    }
   ],
   "source": [
    "number = 10\n",
    "day = 'three'\n",
    "print('I ate {0} apples, so I was sick for {1} days.'.format(number,day))"
   ]
  },
  {
   "cell_type": "code",
   "execution_count": 34,
   "metadata": {},
   "outputs": [
    {
     "name": "stdout",
     "output_type": "stream",
     "text": [
      "I ate 10 apples, so I was sick for three days.\n"
     ]
    }
   ],
   "source": [
    "print('I ate {number} apples, so I was sick for {day} days.'.format(number=10,day='three'))"
   ]
  },
  {
   "cell_type": "code",
   "execution_count": 35,
   "metadata": {},
   "outputs": [
    {
     "name": "stdout",
     "output_type": "stream",
     "text": [
      "I ate 40 apples, so I was sick for three days\n"
     ]
    }
   ],
   "source": [
    "number = 40\n",
    "day = 'three'\n",
    "print(f'I ate {number} apples, so I was sick for {day} days')"
   ]
  },
  {
   "cell_type": "code",
   "execution_count": 36,
   "metadata": {},
   "outputs": [
    {
     "name": "stdout",
     "output_type": "stream",
     "text": [
      "hi        !\n",
      "        hi!\n",
      "    hi    !\n",
      "hi        !\n",
      "        hi!\n",
      "    hi    !\n"
     ]
    }
   ],
   "source": [
    "print('{0:<10}!'.format('hi'))\n",
    "print('{0:>10}!'.format('hi'))\n",
    "print('{0:^10}!'.format('hi'))"
   ]
  },
  {
   "cell_type": "code",
   "execution_count": 37,
   "metadata": {},
   "outputs": [
    {
     "name": "stdout",
     "output_type": "stream",
     "text": [
      "PI : 3.1416\n",
      "PI : 3.1416\n"
     ]
    }
   ],
   "source": [
    "PI = 3.141592\n",
    "print('PI : {0:0.4f}'.format(PI))\n",
    "print(f'PI : {PI:0.4f}')"
   ]
  }
 ],
 "metadata": {
  "kernelspec": {
   "display_name": "test",
   "language": "python",
   "name": "python3"
  },
  "language_info": {
   "codemirror_mode": {
    "name": "ipython",
    "version": 3
   },
   "file_extension": ".py",
   "mimetype": "text/x-python",
   "name": "python",
   "nbconvert_exporter": "python",
   "pygments_lexer": "ipython3",
   "version": "3.10.14"
  }
 },
 "nbformat": 4,
 "nbformat_minor": 2
}
