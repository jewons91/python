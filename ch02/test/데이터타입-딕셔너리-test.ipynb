{
 "cells": [
  {
   "cell_type": "code",
   "execution_count": 3,
   "metadata": {},
   "outputs": [
    {
     "name": "stdout",
     "output_type": "stream",
     "text": [
      "{'name': 'hong', 'birth': '1590', 'phone': '1234'}\n",
      "{'name': 'hong', 'birth': '1590'}\n"
     ]
    }
   ],
   "source": [
    "a = {}\n",
    "a['name'] = 'hong'\n",
    "a['birth'] = '1590'\n",
    "a['phone'] = '1234'\n",
    "print(a)\n",
    "\n",
    "del a['phone']\n",
    "print(a)"
   ]
  },
  {
   "cell_type": "code",
   "execution_count": 4,
   "metadata": {},
   "outputs": [
    {
     "name": "stdout",
     "output_type": "stream",
     "text": [
      "{'1234': {'name': 'hong', 'phone': '1234', 'address': '울릉도', 'gubun': '가족'}, '2345': {'name': 'go', 'phone': '2345', 'address': '서울', 'gubun': '친구'}}\n"
     ]
    }
   ],
   "source": [
    "contact = {\n",
    "    '1234' : {\n",
    "        'name' : 'hong',\n",
    "        'phone' : '1234',\n",
    "        'address' : '울릉도',\n",
    "        'gubun' : '가족'\n",
    "    },\n",
    "    '2345' : {\n",
    "        'name' : 'go',\n",
    "        'phone' : '2345',\n",
    "        'address' : '서울',\n",
    "        'gubun' : '친구'\n",
    "    }\n",
    "}\n",
    "print(contact)"
   ]
  },
  {
   "cell_type": "code",
   "execution_count": 6,
   "metadata": {},
   "outputs": [
    {
     "name": "stdout",
     "output_type": "stream",
     "text": [
      "울릉도\n",
      "{'name': 'hong', 'phone': '1234', 'address': '울릉도', 'gubun': '가족'}\n"
     ]
    }
   ],
   "source": [
    "print(contact['1234']['address'])\n",
    "print(contact['1234'])"
   ]
  },
  {
   "cell_type": "code",
   "execution_count": 8,
   "metadata": {},
   "outputs": [
    {
     "name": "stdout",
     "output_type": "stream",
     "text": [
      "{1: 'b'}\n",
      "{'name': '고길동'}\n"
     ]
    }
   ],
   "source": [
    "a = {}\n",
    "a[1] = 'a'\n",
    "a[1] = 'b'\n",
    "print(a)\n",
    "\n",
    "k = 'name'\n",
    "name = '고길동'\n",
    "a = {k : name}\n",
    "print(a)"
   ]
  },
  {
   "cell_type": "code",
   "execution_count": 9,
   "metadata": {},
   "outputs": [
    {
     "name": "stdout",
     "output_type": "stream",
     "text": [
      "['__class__', '__class_getitem__', '__contains__', '__delattr__', '__delitem__', '__dir__', '__doc__', '__eq__', '__format__', '__ge__', '__getattribute__', '__getitem__', '__gt__', '__hash__', '__init__', '__init_subclass__', '__ior__', '__iter__', '__le__', '__len__', '__lt__', '__ne__', '__new__', '__or__', '__reduce__', '__reduce_ex__', '__repr__', '__reversed__', '__ror__', '__setattr__', '__setitem__', '__sizeof__', '__str__', '__subclasshook__', 'clear', 'copy', 'fromkeys', 'get', 'items', 'keys', 'pop', 'popitem', 'setdefault', 'update', 'values']\n"
     ]
    }
   ],
   "source": [
    "print(dir(a))"
   ]
  },
  {
   "cell_type": "code",
   "execution_count": 11,
   "metadata": {},
   "outputs": [
    {
     "name": "stdout",
     "output_type": "stream",
     "text": [
      "{'name': 'pey', 'phone': '12345', 'birth': '1118'}\n",
      "dict_keys(['name', 'phone', 'birth'])\n",
      "name\n",
      "phone\n",
      "birth\n"
     ]
    }
   ],
   "source": [
    "a = {\n",
    "    'name' : 'pey',\n",
    "    'phone' : '12345',\n",
    "    'birth' : '1118'\n",
    "}\n",
    "print(a)\n",
    "print(a.keys())\n",
    "\n",
    "for k in a.keys():\n",
    "    print(k)"
   ]
  },
  {
   "cell_type": "code",
   "execution_count": 14,
   "metadata": {},
   "outputs": [
    {
     "name": "stdout",
     "output_type": "stream",
     "text": [
      "{'name': 'pey', 'phone': '12345', 'birth': '1118'}\n",
      "dict_values(['pey', '12345', '1118'])\n",
      "pey\n",
      "12345\n",
      "1118\n"
     ]
    }
   ],
   "source": [
    "print(a)\n",
    "print(a.values())\n",
    "\n",
    "for k in a.values():\n",
    "    print(k)"
   ]
  },
  {
   "cell_type": "code",
   "execution_count": 16,
   "metadata": {},
   "outputs": [
    {
     "name": "stdout",
     "output_type": "stream",
     "text": [
      "{'name': 'pey', 'phone': '12345', 'birth': '1118'}\n",
      "dict_items([('name', 'pey'), ('phone', '12345'), ('birth', '1118')])\n",
      "<class 'tuple'>\n",
      "name\n",
      "pey\n",
      "<class 'tuple'>\n",
      "phone\n",
      "12345\n",
      "<class 'tuple'>\n",
      "birth\n",
      "1118\n"
     ]
    }
   ],
   "source": [
    "print(a)\n",
    "print(a.items())\n",
    "\n",
    "for k in a.items():\n",
    "    print(type(k))\n",
    "    print(k[0])\n",
    "    print(k[1])"
   ]
  },
  {
   "cell_type": "code",
   "execution_count": 17,
   "metadata": {},
   "outputs": [
    {
     "name": "stdout",
     "output_type": "stream",
     "text": [
      "{'name': 'pey', 'phone': '12345', 'birth': '1118'}\n",
      "pey\n",
      "None\n"
     ]
    }
   ],
   "source": [
    "print(a)\n",
    "print(a.get('name'))\n",
    "print(a.get('aaa'))"
   ]
  },
  {
   "cell_type": "code",
   "execution_count": 18,
   "metadata": {},
   "outputs": [
    {
     "name": "stdout",
     "output_type": "stream",
     "text": [
      "{'name': 'pey', 'phone': '12345', 'birth': '1118'}\n",
      "True\n",
      "False\n"
     ]
    }
   ],
   "source": [
    "print(a)\n",
    "print('name' in a)\n",
    "print('email' in a)"
   ]
  }
 ],
 "metadata": {
  "kernelspec": {
   "display_name": "test",
   "language": "python",
   "name": "python3"
  },
  "language_info": {
   "codemirror_mode": {
    "name": "ipython",
    "version": 3
   },
   "file_extension": ".py",
   "mimetype": "text/x-python",
   "name": "python",
   "nbconvert_exporter": "python",
   "pygments_lexer": "ipython3",
   "version": "3.10.14"
  }
 },
 "nbformat": 4,
 "nbformat_minor": 2
}
