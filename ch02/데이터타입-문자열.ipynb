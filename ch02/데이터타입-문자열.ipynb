{
 "cells": [
  {
   "cell_type": "code",
   "execution_count": 1,
   "metadata": {},
   "outputs": [
    {
     "name": "stdout",
     "output_type": "stream",
     "text": [
      "Hello\n",
      "<class 'str'>\n"
     ]
    }
   ],
   "source": [
    "# 문자열 기호 => '', \"\" => 문자열 object 생성 명령\n",
    "a = 'Hello' # 세미콜론 없다, 한개 명령 끝 => enter key : \\n 의미\n",
    "print(a)\n",
    "print(type(a))"
   ]
  },
  {
   "cell_type": "code",
   "execution_count": 2,
   "metadata": {},
   "outputs": [
    {
     "data": {
      "text/plain": [
       "'Hello\\nWorld'"
      ]
     },
     "execution_count": 2,
     "metadata": {},
     "output_type": "execute_result"
    }
   ],
   "source": [
    "a = 'Hello\\nWorld'\n",
    "a"
   ]
  },
  {
   "cell_type": "code",
   "execution_count": 3,
   "metadata": {},
   "outputs": [
    {
     "name": "stdout",
     "output_type": "stream",
     "text": [
      "Hello\n",
      "World\n"
     ]
    }
   ],
   "source": [
    "print(a)"
   ]
  },
  {
   "cell_type": "code",
   "execution_count": 4,
   "metadata": {},
   "outputs": [
    {
     "data": {
      "text/plain": [
       "'Hello'"
      ]
     },
     "execution_count": 4,
     "metadata": {},
     "output_type": "execute_result"
    }
   ],
   "source": [
    "b = \"Hello\"\n",
    "b"
   ]
  },
  {
   "cell_type": "code",
   "execution_count": 5,
   "metadata": {},
   "outputs": [
    {
     "name": "stdout",
     "output_type": "stream",
     "text": [
      "He say \"Hello\"\n"
     ]
    }
   ],
   "source": [
    "c = 'He say \"Hello\"'\n",
    "print(c)"
   ]
  },
  {
   "cell_type": "code",
   "execution_count": 6,
   "metadata": {},
   "outputs": [
    {
     "data": {
      "text/plain": [
       "'\\n우리는 지금 파이썬\\n데이터 타입을 배우고 있습니다.\\n화이팅!!!\\n'"
      ]
     },
     "execution_count": 6,
     "metadata": {},
     "output_type": "execute_result"
    }
   ],
   "source": [
    "a = '''\n",
    "우리는 지금 파이썬\n",
    "데이터 타입을 배우고 있습니다.\n",
    "화이팅!!!\n",
    "'''\n",
    "a"
   ]
  },
  {
   "cell_type": "code",
   "execution_count": 7,
   "metadata": {},
   "outputs": [
    {
     "name": "stdout",
     "output_type": "stream",
     "text": [
      "\n",
      "우리는 지금 파이썬\n",
      "데이터 타입을 배우고 있습니다.\n",
      "화이팅!!!\n",
      "\n"
     ]
    }
   ],
   "source": [
    "print(a)"
   ]
  },
  {
   "cell_type": "code",
   "execution_count": 8,
   "metadata": {},
   "outputs": [
    {
     "name": "stdout",
     "output_type": "stream",
     "text": [
      "Python is fun\n"
     ]
    }
   ],
   "source": [
    "# 문자열 연결(concatenation)\n",
    "head = \"Python\"\n",
    "tail = ' is fun'\n",
    "print(head + tail)"
   ]
  },
  {
   "cell_type": "code",
   "execution_count": 11,
   "metadata": {},
   "outputs": [
    {
     "name": "stdout",
     "output_type": "stream",
     "text": [
      "==============================\n",
      "연락처 프로그램\n",
      "==============================\n"
     ]
    }
   ],
   "source": [
    "a = '='\n",
    "print(a * 30)\n",
    "print('연락처 프로그램')\n",
    "print(a * 30)"
   ]
  },
  {
   "cell_type": "code",
   "execution_count": 15,
   "metadata": {},
   "outputs": [
    {
     "name": "stdout",
     "output_type": "stream",
     "text": [
      "Life is too short !\n",
      "i\n",
      "L\n",
      "!\n"
     ]
    }
   ],
   "source": [
    "# 인덱싱\n",
    "# 문자열 => tuple (,) => list [] => iterable (index)\n",
    "a = 'Life is too short !'\n",
    "print(a)\n",
    "print(a[1]) # i\n",
    "print(a[0]) # L\n",
    "print(a[-1]) # !"
   ]
  },
  {
   "cell_type": "code",
   "execution_count": 16,
   "metadata": {},
   "outputs": [
    {
     "name": "stdout",
     "output_type": "stream",
     "text": [
      "Life is too short !\n"
     ]
    }
   ],
   "source": [
    "# 슬라이싱 => 잘라내기\n",
    "print(a)"
   ]
  },
  {
   "cell_type": "code",
   "execution_count": 20,
   "metadata": {},
   "outputs": [
    {
     "name": "stdout",
     "output_type": "stream",
     "text": [
      "Life\n",
      "Life \n"
     ]
    }
   ],
   "source": [
    "print(a[0:4]) # Life\n",
    "print(a[0:5]) # Life공백"
   ]
  },
  {
   "cell_type": "code",
   "execution_count": 23,
   "metadata": {},
   "outputs": [
    {
     "name": "stdout",
     "output_type": "stream",
     "text": [
      "Life is too short !\n",
      "too\n",
      "short \n",
      "short !\n",
      "Life\n",
      "Life is too short !\n",
      "Life is too short !\n"
     ]
    }
   ],
   "source": [
    "print(a)\n",
    "# too\n",
    "print(a[8:11])\n",
    "# short !\n",
    "print(a[12:18])\n",
    "print(a[12:]) # end index X => 끝까지 가녀와라\n",
    "# Life\n",
    "print(a[:4]) # a[X:4] start index X => 처음부터 가져와라\n",
    "\n",
    "# 전체 가져온다\n",
    "print(a[:]) # start, end index X => 처음부터 끝까지 가져와라\n",
    "print(a)"
   ]
  },
  {
   "cell_type": "code",
   "execution_count": 24,
   "metadata": {},
   "outputs": [
    {
     "name": "stdout",
     "output_type": "stream",
     "text": [
      "i\n",
      "i\n"
     ]
    }
   ],
   "source": [
    "#\n",
    "a = 'Life'\n",
    "print(a[1:2]) # 슬라이싱\n",
    "print(a[1]) # 인덱싱"
   ]
  },
  {
   "cell_type": "code",
   "execution_count": 25,
   "metadata": {},
   "outputs": [
    {
     "name": "stdout",
     "output_type": "stream",
     "text": [
      "Life\n",
      "Lifeb\n",
      "Lbfe\n"
     ]
    }
   ],
   "source": [
    "a = 'Life'\n",
    "\n",
    "b = a\n",
    "b = b + 'b'\n",
    "c = a[0] + 'b' + a[2:]\n",
    "\n",
    "print(a)\n",
    "print(b)\n",
    "print(c)"
   ]
  },
  {
   "cell_type": "code",
   "execution_count": 29,
   "metadata": {},
   "outputs": [
    {
     "name": "stdout",
     "output_type": "stream",
     "text": [
      "I eat 5 apples.\n",
      "I eat 5 apples.\n"
     ]
    }
   ],
   "source": [
    "# 문자열 포맷팅\n",
    "# 1. % 사용하는 방식 : % => 위치 지정, d => 숫자, %d => 숫자가 들어가는 위치 지정\n",
    "cnt = 5\n",
    "print('I eat %d apples.' %cnt)\n",
    "# 2. 문자열 클래스 format() 사용\n",
    "\n",
    "# 3. 포맷 스트링 사용\n",
    "print(f'I eat {cnt} apples.')"
   ]
  },
  {
   "cell_type": "code",
   "execution_count": 32,
   "metadata": {},
   "outputs": [
    {
     "name": "stdout",
     "output_type": "stream",
     "text": [
      "hi\n",
      "        hi\n",
      "hi        \n"
     ]
    }
   ],
   "source": [
    "# 문자열 포맷팅\n",
    "# 1. 정렬과 공백\n",
    "print('%s'%'hi')\n",
    "print('%10s'%'hi') # %10s => 10 : 전체 길이 , 'hi' : 2자 => 8자리가 남는다 : 공백\n",
    "print('%-10s'%'hi') # -%10s => 10 : 전체 길이 , 'hi' : 2자 => 8자리가 남는다 : 공백"
   ]
  },
  {
   "cell_type": "code",
   "execution_count": 35,
   "metadata": {},
   "outputs": [
    {
     "name": "stdout",
     "output_type": "stream",
     "text": [
      "hi        jane\n",
      "hi        tudent\n"
     ]
    }
   ],
   "source": [
    "print('%-10sjane'%'hi')\n",
    "print('%-10student'%'hi')"
   ]
  },
  {
   "cell_type": "code",
   "execution_count": 42,
   "metadata": {},
   "outputs": [
    {
     "name": "stdout",
     "output_type": "stream",
     "text": [
      "파이 : 3.141592\n",
      "파이 : 3.1416\n",
      "파이 :     3.1416\n",
      "파이 : 3.141592\n",
      "파이 : 3.1416\n",
      "파이 :     3.1416\n"
     ]
    }
   ],
   "source": [
    "# 2. 소수점 표현\n",
    "print('파이 : %f'%3.141592)\n",
    "print('파이 : %0.4f'%3.141592)\n",
    "print('파이 : %10.4f'%3.141592)\n",
    "# 포맷 스트링\n",
    "pi = 3.141592\n",
    "print(f'파이 : {pi}')\n",
    "print(f'파이 : {pi:0.4f}')\n",
    "print(f'파이 : {pi:10.4f}')"
   ]
  },
  {
   "cell_type": "code",
   "execution_count": 45,
   "metadata": {},
   "outputs": [
    {
     "name": "stdout",
     "output_type": "stream",
     "text": [
      "2\n",
      "1\n"
     ]
    }
   ],
   "source": [
    "# 문자열 관련 메소드\n",
    "a = 'hobby'\n",
    "print(a.count('b')) # a.count(문자열[단어])\n",
    "print(a.count('bb'))"
   ]
  },
  {
   "cell_type": "code",
   "execution_count": 48,
   "metadata": {},
   "outputs": [
    {
     "name": "stdout",
     "output_type": "stream",
     "text": [
      "1\n",
      "-1\n",
      "1\n",
      "찾는 문자열이 없습니다.\n"
     ]
    }
   ],
   "source": [
    "# 특정문자열 위치(index) 반환\n",
    "# find(문자열), index(문자열)\n",
    "a = 'Life is too short'\n",
    "print(a.find('i'))\n",
    "print(a.find('m')) # 없으면 -1 반환, ValueError 반환되지 않는다  try 안해도 된다\n",
    "print(a.index('i'))\n",
    "try:\n",
    "    print(a.index('m')) # ValueError  try~except\n",
    "except:\n",
    "    print('찾는 문자열이 없습니다.')"
   ]
  },
  {
   "cell_type": "code",
   "execution_count": 52,
   "metadata": {},
   "outputs": [
    {
     "name": "stdout",
     "output_type": "stream",
     "text": [
      "a,b,c,d\n"
     ]
    }
   ],
   "source": [
    "# 문자열 삽입(join)\n",
    "a = ','\n",
    "print(a.join('abcd'))"
   ]
  },
  {
   "cell_type": "code",
   "execution_count": 56,
   "metadata": {},
   "outputs": [
    {
     "name": "stdout",
     "output_type": "stream",
     "text": [
      "hi\n",
      "hi\n",
      "hi\n",
      "hi hi\n"
     ]
    }
   ],
   "source": [
    "# 공백 제거\n",
    "a = 'hi '\n",
    "b = ' hi'\n",
    "c = ' hi '\n",
    "d = ' hi hi '\n",
    "print(a.rstrip()) # 오른쪽 제거\n",
    "print(b.lstrip()) # 왼쪽 제거\n",
    "print(c.strip()) # 양쪽 제거\n",
    "print(d.strip()) # 양쪽 제거, 중간 공백 제거 안된다. => replace 사용 필요"
   ]
  },
  {
   "cell_type": "code",
   "execution_count": 57,
   "metadata": {},
   "outputs": [
    {
     "name": "stdout",
     "output_type": "stream",
     "text": [
      "hihi\n"
     ]
    }
   ],
   "source": [
    "# 문자열 바꾸기(replace)\n",
    "d = ' hi hi '\n",
    "print(d.replace(' ', '')) # replace(x, y) => x : 찾을 문자열, y : 바꿀 문자열"
   ]
  },
  {
   "cell_type": "code",
   "execution_count": 62,
   "metadata": {},
   "outputs": [
    {
     "name": "stdout",
     "output_type": "stream",
     "text": [
      "['Life', 'is', 'too', 'short']\n",
      "['a', 'b', 'c', 'd']\n"
     ]
    }
   ],
   "source": [
    "# 문자열 나누기 => Tokenizer (split(나눌문자열)) => return [], list\n",
    "a = 'Life is too short'\n",
    "print(a.split()) # parameter X => default 공백\n",
    "b = 'a:b:c:d'\n",
    "print(b.split(':')) # : 으로 나눠라"
   ]
  },
  {
   "cell_type": "code",
   "execution_count": 78,
   "metadata": {},
   "outputs": [
    {
     "data": {
      "text/plain": [
       "'I eat 4 apples 3'"
      ]
     },
     "execution_count": 78,
     "metadata": {},
     "output_type": "execute_result"
    }
   ],
   "source": [
    "# 고급 문자열 포매팅 => format() 메소드\n",
    "# 'I eat %d apples' %3\n",
    "'I eat {1} apples {0}'.format(3,4) # 가변 인자"
   ]
  },
  {
   "cell_type": "code",
   "execution_count": 80,
   "metadata": {},
   "outputs": [
    {
     "name": "stdout",
     "output_type": "stream",
     "text": [
      "<class 'tuple'>\n",
      "7\n",
      "<class 'tuple'>\n",
      "6\n",
      "<class 'tuple'>\n",
      "55\n",
      "<class 'function'>\n"
     ]
    }
   ],
   "source": [
    "def format(* aaa):\n",
    "    sum = 0\n",
    "    print(type(aaa))\n",
    "    for k in aaa:\n",
    "        sum += k\n",
    "    print(sum)\n",
    "    \n",
    "format(3,4)\n",
    "format(1,2,3)\n",
    "format(1,2,3,4,5,6,7,8,9,10)"
   ]
  },
  {
   "cell_type": "code",
   "execution_count": 79,
   "metadata": {},
   "outputs": [
    {
     "name": "stdout",
     "output_type": "stream",
     "text": [
      "I ate 10 apples, so I was sick for three days.\n"
     ]
    }
   ],
   "source": [
    "# 2개 이상의 값 넣기\n",
    "number = 10\n",
    "day = 'three'\n",
    "print('I ate {0} apples, so I was sick for {1} days.'.format(number,day))"
   ]
  },
  {
   "cell_type": "code",
   "execution_count": 82,
   "metadata": {},
   "outputs": [
    {
     "name": "stdout",
     "output_type": "stream",
     "text": [
      "I ate 10 apples, so I was sick for three days.\n"
     ]
    }
   ],
   "source": [
    "print('I ate {number} apples, so I was sick for {day} days.'.format(number=10,day='three'))"
   ]
  },
  {
   "cell_type": "code",
   "execution_count": 85,
   "metadata": {},
   "outputs": [
    {
     "name": "stdout",
     "output_type": "stream",
     "text": [
      "I ate 40 apples, so I was sick for three days.\n"
     ]
    }
   ],
   "source": [
    "# 3번째 방식\n",
    "number = 40\n",
    "day = 'three'\n",
    "print(f'I ate {number} apples, so I was sick for {day} days.')"
   ]
  },
  {
   "cell_type": "code",
   "execution_count": 94,
   "metadata": {},
   "outputs": [
    {
     "name": "stdout",
     "output_type": "stream",
     "text": [
      "hi        !\n",
      "        hi!\n",
      "    hi    !\n"
     ]
    }
   ],
   "source": [
    "# format method 정렬\n",
    "print('{0:<10}!'.format('hi')) # {0} 0번 인덱스, 왼쪽 정렬, default\n",
    "print('{0:>10}!'.format('hi')) # {0} 0번 인덱스, 오른쪽 정렬\n",
    "print('{0:^10}!'.format('hi')) # {0} 0번 인덱스, 가운데 정렬"
   ]
  },
  {
   "cell_type": "code",
   "execution_count": 98,
   "metadata": {},
   "outputs": [
    {
     "name": "stdout",
     "output_type": "stream",
     "text": [
      "PI : 3.1416\n",
      "PI : 3.1416\n"
     ]
    }
   ],
   "source": [
    "# 소수점 처리(실수 : f)\n",
    "PI = 3.141592\n",
    "print('PI : {0:0.4f}'.format(PI))\n",
    "print(f'PI : {PI:0.4f}')"
   ]
  }
 ],
 "metadata": {
  "kernelspec": {
   "display_name": "test",
   "language": "python",
   "name": "python3"
  },
  "language_info": {
   "codemirror_mode": {
    "name": "ipython",
    "version": 3
   },
   "file_extension": ".py",
   "mimetype": "text/x-python",
   "name": "python",
   "nbconvert_exporter": "python",
   "pygments_lexer": "ipython3",
   "version": "3.10.14"
  }
 },
 "nbformat": 4,
 "nbformat_minor": 2
}
