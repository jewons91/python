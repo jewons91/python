{
 "cells": [
  {
   "cell_type": "code",
   "execution_count": 7,
   "metadata": {},
   "outputs": [
    {
     "name": "stdout",
     "output_type": "stream",
     "text": [
      "{'name': 'hong', 'birth': '1590', 'phone': '1234'}\n",
      "{'name': 'hong', 'birth': '1590'}\n"
     ]
    }
   ],
   "source": [
    "## 딕셔너리에 쌍 추가, 삭제\n",
    "# 추가\n",
    "a = {}\n",
    "a['name'] = 'hong'\n",
    "a['birth'] = '1590'\n",
    "a['phone'] = '1234'\n",
    "print(a)\n",
    "\n",
    "# 삭제\n",
    "del a['phone']\n",
    "print(a)"
   ]
  },
  {
   "cell_type": "code",
   "execution_count": 9,
   "metadata": {},
   "outputs": [
    {
     "name": "stdout",
     "output_type": "stream",
     "text": [
      "{'1234': {'name': 'hong', 'phone': '1234', 'address': '울릉도', 'gubun': '가족'}, '2345': {'name': 'go', 'phone': '2345', 'address': '서울', 'gubun': '친구'}}\n"
     ]
    }
   ],
   "source": [
    "contact = {\n",
    "    '1234' : {\n",
    "        'name' : 'hong',\n",
    "        'phone' : '1234',\n",
    "        'address' : '울릉도',\n",
    "        'gubun' : '가족'\n",
    "    },\n",
    "    '2345' : {\n",
    "        'name' : 'go',\n",
    "        'phone' : '2345',\n",
    "        'address' : '서울',\n",
    "        'gubun' : '친구'\n",
    "    }\n",
    "}\n",
    "print(contact)"
   ]
  },
  {
   "cell_type": "code",
   "execution_count": 12,
   "metadata": {},
   "outputs": [
    {
     "name": "stdout",
     "output_type": "stream",
     "text": [
      "울릉도\n",
      "{'name': 'hong', 'phone': '1234', 'address': '울릉도', 'gubun': '가족'}\n"
     ]
    }
   ],
   "source": [
    "# 홍길동 주소\n",
    "print(contact['1234']['address'])\n",
    "# '1234'\n",
    "print(contact['1234'])"
   ]
  },
  {
   "cell_type": "code",
   "execution_count": 19,
   "metadata": {},
   "outputs": [
    {
     "name": "stdout",
     "output_type": "stream",
     "text": [
      "{1: 'b'}\n",
      "{'name': '고길동'}\n"
     ]
    }
   ],
   "source": [
    "# 1. 주의 사항\n",
    "# a = {1:'a',1:'b'} # 1 이라는 키가 중복된 상태\n",
    "a = {}\n",
    "a[1] = 'a'\n",
    "a[1] = 'b'\n",
    "print(a)\n",
    "\n",
    "# 2. 주의 사항\n",
    "# k = [1,2] # 변수 선언 - error\n",
    "k = 'name' # 단일값으로 처리되어야 한다.\n",
    "name = '고길동'\n",
    "a = {k : name}\n",
    "print(a)"
   ]
  },
  {
   "cell_type": "code",
   "execution_count": 21,
   "metadata": {},
   "outputs": [
    {
     "data": {
      "text/plain": [
       "['__class__',\n",
       " '__class_getitem__',\n",
       " '__contains__',\n",
       " '__delattr__',\n",
       " '__delitem__',\n",
       " '__dir__',\n",
       " '__doc__',\n",
       " '__eq__',\n",
       " '__format__',\n",
       " '__ge__',\n",
       " '__getattribute__',\n",
       " '__getitem__',\n",
       " '__gt__',\n",
       " '__hash__',\n",
       " '__init__',\n",
       " '__init_subclass__',\n",
       " '__ior__',\n",
       " '__iter__',\n",
       " '__le__',\n",
       " '__len__',\n",
       " '__lt__',\n",
       " '__ne__',\n",
       " '__new__',\n",
       " '__or__',\n",
       " '__reduce__',\n",
       " '__reduce_ex__',\n",
       " '__repr__',\n",
       " '__reversed__',\n",
       " '__ror__',\n",
       " '__setattr__',\n",
       " '__setitem__',\n",
       " '__sizeof__',\n",
       " '__str__',\n",
       " '__subclasshook__',\n",
       " 'clear',\n",
       " 'copy',\n",
       " 'fromkeys',\n",
       " 'get',\n",
       " 'items',\n",
       " 'keys',\n",
       " 'pop',\n",
       " 'popitem',\n",
       " 'setdefault',\n",
       " 'update',\n",
       " 'values']"
      ]
     },
     "execution_count": 21,
     "metadata": {},
     "output_type": "execute_result"
    }
   ],
   "source": [
    "#########################\n",
    "# 딕셔너리 관련 메소드\n",
    "#########################\n",
    "dir(a) # a dict"
   ]
  },
  {
   "cell_type": "code",
   "execution_count": 25,
   "metadata": {},
   "outputs": [
    {
     "name": "stdout",
     "output_type": "stream",
     "text": [
      "{'name': 'pey', 'phone': '12345', 'birth': '1118'}\n",
      "dict_keys(['name', 'phone', 'birth'])\n",
      "name\n",
      "phone\n",
      "birth\n"
     ]
    }
   ],
   "source": [
    "# key 추출\n",
    "a = {\n",
    "    'name' : 'pey',\n",
    "    'phone' : '12345',\n",
    "    'birth' : '1118'\n",
    "}\n",
    "print(a)\n",
    "print(a.keys()) # return dict_keys object\n",
    "\n",
    "for k in a.keys():\n",
    "    print(k)"
   ]
  },
  {
   "cell_type": "code",
   "execution_count": 30,
   "metadata": {},
   "outputs": [
    {
     "name": "stdout",
     "output_type": "stream",
     "text": [
      "{'name': 'pey', 'phone': '12345', 'birth': '1118'}\n",
      "dict_values(['pey', '12345', '1118'])\n",
      "pey\n",
      "12345\n",
      "1118\n"
     ]
    }
   ],
   "source": [
    "# value 추출\n",
    "print(a)\n",
    "print(a.values())\n",
    "\n",
    "for k in a.values(): # : => block start\n",
    "    print(k)\n",
    "    \n",
    "# a.values()[0] : [0] error => list 아니다"
   ]
  },
  {
   "cell_type": "code",
   "execution_count": 39,
   "metadata": {},
   "outputs": [
    {
     "name": "stdout",
     "output_type": "stream",
     "text": [
      "{'name': 'pey', 'phone': '12345', 'birth': '1118'}\n",
      "dict_items([('name', 'pey'), ('phone', '12345'), ('birth', '1118')])\n",
      "<class 'tuple'>\n",
      "name\n",
      "pey\n",
      "<class 'tuple'>\n",
      "phone\n",
      "12345\n",
      "<class 'tuple'>\n",
      "birth\n",
      "1118\n"
     ]
    }
   ],
   "source": [
    "# key, value 추출\n",
    "print(a)\n",
    "print(a.items())\n",
    "\n",
    "# print(a.items()[0]) # dict_items object return => list 가 아니다\n",
    "\n",
    "for k in a.items():\n",
    "    print(type(k))\n",
    "    print(k[0]) # key 추출\n",
    "    print(k[1]) # value 추출"
   ]
  },
  {
   "cell_type": "code",
   "execution_count": 43,
   "metadata": {},
   "outputs": [
    {
     "name": "stdout",
     "output_type": "stream",
     "text": [
      "{'name': 'pey', 'phone': '12345', 'birth': '1118'}\n",
      "pey\n",
      "None\n"
     ]
    }
   ],
   "source": [
    "# value 얻기 : get(key)\n",
    "print(a)\n",
    "print(a.get('name'))\n",
    "print(a.get('aaa')) # aaa key 없다 => value : None 나온다"
   ]
  },
  {
   "cell_type": "code",
   "execution_count": 45,
   "metadata": {},
   "outputs": [
    {
     "name": "stdout",
     "output_type": "stream",
     "text": [
      "{'name': 'pey', 'phone': '12345', 'birth': '1118'}\n",
      "True\n",
      "False\n"
     ]
    }
   ],
   "source": [
    "# 내용 확인 : in 연산자\n",
    "print(a)\n",
    "print('name' in a) # a 딕셔너리에 name 키가 존재 여부 확인\n",
    "print('email' in a)"
   ]
  }
 ],
 "metadata": {
  "kernelspec": {
   "display_name": "test",
   "language": "python",
   "name": "python3"
  },
  "language_info": {
   "codemirror_mode": {
    "name": "ipython",
    "version": 3
   },
   "file_extension": ".py",
   "mimetype": "text/x-python",
   "name": "python",
   "nbconvert_exporter": "python",
   "pygments_lexer": "ipython3",
   "version": "3.10.14"
  }
 },
 "nbformat": 4,
 "nbformat_minor": 2
}
