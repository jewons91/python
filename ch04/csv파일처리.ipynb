{
 "cells": [
  {
   "cell_type": "code",
   "execution_count": 2,
   "metadata": {},
   "outputs": [
    {
     "name": "stdout",
     "output_type": "stream",
     "text": [
      "1,김정수,2017-01-19\n",
      "2,박민구,2017-02-07\n",
      "3,정순미,2017-03-22\n",
      "<class 'str'>\n"
     ]
    }
   ],
   "source": [
    "with open(file='./data.csv',mode='r',encoding='utf-8') as f:\n",
    "    print(f.read())\n",
    "    print(type(f.read()))"
   ]
  },
  {
   "cell_type": "code",
   "execution_count": 7,
   "metadata": {},
   "outputs": [
    {
     "name": "stdout",
     "output_type": "stream",
     "text": [
      "['1', '김정수', '2017-01-19']\n",
      "김정수\n",
      "['2', '박민구', '2017-02-07']\n",
      "박민구\n",
      "['3', '정순미', '2017-03-22']\n",
      "정순미\n"
     ]
    }
   ],
   "source": [
    "import csv\n",
    "# csv module : csv.py : 분리하는 기능, 파일 오픈 기능 없다\n",
    "\n",
    "with open('./data.csv',mode='r',encoding='utf-8') as f:\n",
    "    rdr = csv.reader(f)\n",
    "    # print(rdr) rdr 은 iterable\n",
    "    for line in rdr :\n",
    "        print(line)\n",
    "        print(line[1])\n"
   ]
  },
  {
   "cell_type": "code",
   "execution_count": 9,
   "metadata": {},
   "outputs": [],
   "source": [
    "import csv # 파이썬 설치시 설치된 라이브러리\n",
    "\n",
    "with open('./data.csv','a',encoding='utf-8') as f:\n",
    "    wr = csv.writer(f) # write(동사) 쓰기 => writer 쓰는놈\n",
    "    wr.writerow([1,'김정수',False])\n",
    "    wr.writerow([2,'박상미',True])"
   ]
  }
 ],
 "metadata": {
  "kernelspec": {
   "display_name": "test",
   "language": "python",
   "name": "python3"
  },
  "language_info": {
   "codemirror_mode": {
    "name": "ipython",
    "version": 3
   },
   "file_extension": ".py",
   "mimetype": "text/x-python",
   "name": "python",
   "nbconvert_exporter": "python",
   "pygments_lexer": "ipython3",
   "version": "3.10.14"
  }
 },
 "nbformat": 4,
 "nbformat_minor": 2
}
