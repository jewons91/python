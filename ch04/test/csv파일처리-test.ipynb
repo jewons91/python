{
 "cells": [
  {
   "cell_type": "code",
   "execution_count": 10,
   "metadata": {},
   "outputs": [
    {
     "name": "stdout",
     "output_type": "stream",
     "text": [
      "1,김정수,False\n",
      "\n",
      "2,박상미,True\n",
      "\n",
      "1,김정수,False\n",
      "\n",
      "2,박상미,True\n",
      "<class 'str'>\n"
     ]
    }
   ],
   "source": [
    "with open(file='./data-test.csv',mode='r',encoding='utf-8') as f:\n",
    "    print(f.read())\n",
    "    print(type(f.read()))"
   ]
  },
  {
   "cell_type": "code",
   "execution_count": 17,
   "metadata": {},
   "outputs": [
    {
     "name": "stdout",
     "output_type": "stream",
     "text": [
      "<_csv.reader object at 0x000002D4166208E0>\n",
      "['1', '김정수', 'False']\n",
      "김정수\n",
      "['2', '박상미', 'True']\n",
      "박상미\n",
      "['1', '김정수', 'False']\n",
      "김정수\n",
      "[]\n"
     ]
    },
    {
     "ename": "IndexError",
     "evalue": "list index out of range",
     "output_type": "error",
     "traceback": [
      "\u001b[1;31m---------------------------------------------------------------------------\u001b[0m",
      "\u001b[1;31mIndexError\u001b[0m                                Traceback (most recent call last)",
      "Cell \u001b[1;32mIn[17], line 8\u001b[0m\n\u001b[0;32m      6\u001b[0m \u001b[38;5;28;01mfor\u001b[39;00m line \u001b[38;5;129;01min\u001b[39;00m rdr:\n\u001b[0;32m      7\u001b[0m     \u001b[38;5;28mprint\u001b[39m(line)\n\u001b[1;32m----> 8\u001b[0m     \u001b[38;5;28mprint\u001b[39m(\u001b[43mline\u001b[49m\u001b[43m[\u001b[49m\u001b[38;5;241;43m1\u001b[39;49m\u001b[43m]\u001b[49m)\n",
      "\u001b[1;31mIndexError\u001b[0m: list index out of range"
     ]
    }
   ],
   "source": [
    "import csv\n",
    "\n",
    "with open('./data-test.csv',mode='r',encoding='utf-8') as f:\n",
    "    rdr = csv.reader(f)\n",
    "    print(rdr)\n",
    "    for line in rdr:\n",
    "        print(line)\n",
    "        print(line[1])"
   ]
  },
  {
   "cell_type": "code",
   "execution_count": 16,
   "metadata": {},
   "outputs": [],
   "source": [
    "import csv\n",
    "\n",
    "with open('./data-test.csv','a',encoding='utf-8') as f:\n",
    "    wr = csv.writer(f)\n",
    "    wr.writerow([1,'김정수',False])\n",
    "    wr.writerow([2,'박상미',True])"
   ]
  }
 ],
 "metadata": {
  "kernelspec": {
   "display_name": "test",
   "language": "python",
   "name": "python3"
  },
  "language_info": {
   "codemirror_mode": {
    "name": "ipython",
    "version": 3
   },
   "file_extension": ".py",
   "mimetype": "text/x-python",
   "name": "python",
   "nbconvert_exporter": "python",
   "pygments_lexer": "ipython3",
   "version": "3.10.14"
  }
 },
 "nbformat": 4,
 "nbformat_minor": 2
}
