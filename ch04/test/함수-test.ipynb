{
 "cells": [
  {
   "cell_type": "code",
   "execution_count": 1,
   "metadata": {},
   "outputs": [],
   "source": [
    "def sum_mul(op, *param):\n",
    "    if op == '+':\n",
    "        result = 0\n",
    "        for i in param:\n",
    "            result += i\n",
    "    elif op == '*':\n",
    "        result = 1\n",
    "        for i in param:\n",
    "            result *= i\n",
    "    return result"
   ]
  },
  {
   "cell_type": "code",
   "execution_count": 2,
   "metadata": {},
   "outputs": [
    {
     "name": "stdout",
     "output_type": "stream",
     "text": [
      "10\n",
      "15\n",
      "24\n",
      "720\n"
     ]
    }
   ],
   "source": [
    "print(sum_mul('+',1,2,3,4))\n",
    "print(sum_mul('+',1,2,3,4,5))\n",
    "print(sum_mul('*',1,2,3,4))\n",
    "print(sum_mul('*',1,2,3,4,5,6))"
   ]
  },
  {
   "cell_type": "code",
   "execution_count": 4,
   "metadata": {},
   "outputs": [],
   "source": [
    "def sum_and_mul(a,b):\n",
    "    return a + b, a * b\n",
    "    return a * b"
   ]
  },
  {
   "cell_type": "code",
   "execution_count": 5,
   "metadata": {},
   "outputs": [
    {
     "name": "stdout",
     "output_type": "stream",
     "text": [
      "(3, 2)\n",
      "3\n",
      "2\n"
     ]
    }
   ],
   "source": [
    "print(sum_and_mul(1,2))\n",
    "print(sum_and_mul(1,2)[0])\n",
    "print(sum_and_mul(1,2)[1])"
   ]
  },
  {
   "cell_type": "code",
   "execution_count": 6,
   "metadata": {},
   "outputs": [],
   "source": [
    "def say_nick(nick):\n",
    "    if nick == '바보':\n",
    "        return None\n",
    "    else:\n",
    "        print(f'나의 별명은 {nick}입니다.')"
   ]
  },
  {
   "cell_type": "code",
   "execution_count": 7,
   "metadata": {},
   "outputs": [
    {
     "name": "stdout",
     "output_type": "stream",
     "text": [
      "나의 별명은 천사입니다.\n",
      "None\n"
     ]
    }
   ],
   "source": [
    "print(say_nick('천사'))"
   ]
  },
  {
   "cell_type": "code",
   "execution_count": 8,
   "metadata": {},
   "outputs": [
    {
     "name": "stdout",
     "output_type": "stream",
     "text": [
      "나의 이름은 홍길동입니다\n",
      "나이는 30입니다\n",
      "남자다\n",
      "나의 이름은 고길동입니다\n",
      "나이는 35입니다\n",
      "남자다\n",
      "나의 이름은 마이꼴입니다\n",
      "나이는 20입니다\n",
      "남자다\n"
     ]
    }
   ],
   "source": [
    "def say_myself(name, man, age):\n",
    "    print(f'나의 이름은 {name}입니다')\n",
    "    print(f'나이는 {age}입니다')\n",
    "    if man:\n",
    "        print('남자다')\n",
    "    else:\n",
    "        print('여자다')\n",
    "        \n",
    "data1 = {'name':'홍길동', 'age':30, 'man':True}\n",
    "data2 = {'name':'고길동', 'age':35, 'man':True}\n",
    "data3 = {'name':'마이꼴', 'age':20, 'man':True}\n",
    "say_myself(**data1)\n",
    "say_myself(**data2)\n",
    "say_myself(**data3)"
   ]
  },
  {
   "cell_type": "code",
   "execution_count": 14,
   "metadata": {},
   "outputs": [
    {
     "name": "stdout",
     "output_type": "stream",
     "text": [
      "2\n"
     ]
    }
   ],
   "source": [
    "a = 1\n",
    "# def vartest():\n",
    "#     global a\n",
    "#     a = a + 1\n",
    "#     return None\n",
    "\n",
    "def vartest(a):\n",
    "    a = a + 1\n",
    "    return a\n",
    "\n",
    "a = vartest(a)\n",
    "print(a)"
   ]
  },
  {
   "cell_type": "code",
   "execution_count": 15,
   "metadata": {},
   "outputs": [
    {
     "name": "stdout",
     "output_type": "stream",
     "text": [
      "ㅋ\n"
     ]
    }
   ],
   "source": [
    "a = input()\n",
    "print(a)"
   ]
  },
  {
   "cell_type": "code",
   "execution_count": 16,
   "metadata": {},
   "outputs": [
    {
     "name": "stdout",
     "output_type": "stream",
     "text": [
      "서제원\n"
     ]
    }
   ],
   "source": [
    "a = input('이름 입력 : ')\n",
    "print(a)"
   ]
  },
  {
   "cell_type": "code",
   "execution_count": 17,
   "metadata": {},
   "outputs": [
    {
     "name": "stdout",
     "output_type": "stream",
     "text": [
      "33\n",
      "<class 'int'>\n"
     ]
    }
   ],
   "source": [
    "number = input('숫자입력 : ')\n",
    "print(number)\n",
    "print(type(int(number)))"
   ]
  },
  {
   "cell_type": "code",
   "execution_count": 18,
   "metadata": {},
   "outputs": [
    {
     "name": "stdout",
     "output_type": "stream",
     "text": [
      "1 2 3 4,1 2 3 4\n",
      "1 2 3 4\n"
     ]
    }
   ],
   "source": [
    "print(1,2,3,4, end=',')\n",
    "print(1,2,3,4)\n",
    "print(1,2,3,4)"
   ]
  },
  {
   "cell_type": "code",
   "execution_count": 23,
   "metadata": {},
   "outputs": [],
   "source": [
    "def print_(*values, end='\\n'):\n",
    "    print(values,end=end)"
   ]
  },
  {
   "cell_type": "code",
   "execution_count": 24,
   "metadata": {},
   "outputs": [
    {
     "name": "stdout",
     "output_type": "stream",
     "text": [
      "(1, 2, 3)\n"
     ]
    }
   ],
   "source": [
    "print_(1,2,3)"
   ]
  }
 ],
 "metadata": {
  "kernelspec": {
   "display_name": "test",
   "language": "python",
   "name": "python3"
  },
  "language_info": {
   "codemirror_mode": {
    "name": "ipython",
    "version": 3
   },
   "file_extension": ".py",
   "mimetype": "text/x-python",
   "name": "python",
   "nbconvert_exporter": "python",
   "pygments_lexer": "ipython3",
   "version": "3.10.14"
  }
 },
 "nbformat": 4,
 "nbformat_minor": 2
}
