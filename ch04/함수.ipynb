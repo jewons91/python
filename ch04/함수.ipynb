{
 "cells": [
  {
   "cell_type": "code",
   "execution_count": 1,
   "metadata": {},
   "outputs": [],
   "source": [
    "# 정의만 한것이다. => 실행된것 아니다\n",
    "# name space(이름 공간)에 함수명 등록 => 함수가 실행 가능해진다.\n",
    "def sum(a,b):\n",
    "    return a + b"
   ]
  },
  {
   "cell_type": "code",
   "execution_count": 3,
   "metadata": {},
   "outputs": [
    {
     "name": "stdout",
     "output_type": "stream",
     "text": [
      "7\n"
     ]
    }
   ],
   "source": [
    "print(sum(3,4))"
   ]
  },
  {
   "cell_type": "code",
   "execution_count": 9,
   "metadata": {},
   "outputs": [],
   "source": [
    "# 파라미터 여러개받기\n",
    "def sum_many2(a,b):\n",
    "    sum = a + b\n",
    "    return sum\n",
    "\n",
    "def sum_many3(a,b,c):\n",
    "    return a+b+c"
   ]
  },
  {
   "cell_type": "code",
   "execution_count": 10,
   "metadata": {},
   "outputs": [
    {
     "name": "stdout",
     "output_type": "stream",
     "text": [
      "6\n",
      "3\n"
     ]
    }
   ],
   "source": [
    "print(sum_many3(1,2,3))\n",
    "print(sum_many2(1,2))"
   ]
  },
  {
   "cell_type": "code",
   "execution_count": 12,
   "metadata": {},
   "outputs": [],
   "source": [
    "def sum_many(* param):\n",
    "    sum = 0\n",
    "    for i in param:\n",
    "        sum += i\n",
    "    return sum"
   ]
  },
  {
   "cell_type": "code",
   "execution_count": 14,
   "metadata": {},
   "outputs": [
    {
     "name": "stdout",
     "output_type": "stream",
     "text": [
      "3\n",
      "6\n",
      "10\n",
      "15\n",
      "21\n"
     ]
    }
   ],
   "source": [
    "print(sum_many(1,2))\n",
    "print(sum_many(1,2,3))\n",
    "print(sum_many(1,2,3,4))\n",
    "print(sum_many(1,2,3,4,5))\n",
    "print(sum_many(1,2,3,4,5,6))"
   ]
  },
  {
   "cell_type": "code",
   "execution_count": 15,
   "metadata": {},
   "outputs": [],
   "source": [
    "# 입력값 가변, 두가지 연산(op : +,*)하는 함수\n",
    "def sum_mul(op, *param):\n",
    "    if op == '+':\n",
    "        result = 0\n",
    "        for i in param:\n",
    "            result += i\n",
    "    elif op == '*':\n",
    "        result = 1\n",
    "        for i in param:\n",
    "            result *= i\n",
    "    return result"
   ]
  },
  {
   "cell_type": "code",
   "execution_count": 20,
   "metadata": {},
   "outputs": [
    {
     "name": "stdout",
     "output_type": "stream",
     "text": [
      "10\n",
      "15\n",
      "24\n",
      "720\n"
     ]
    }
   ],
   "source": [
    "print(sum_mul('+',1,2,3,4))\n",
    "print(sum_mul('+',1,2,3,4,5))\n",
    "print(sum_mul('*',1,2,3,4))\n",
    "print(sum_mul('*',1,2,3,4,5,6))"
   ]
  },
  {
   "cell_type": "code",
   "execution_count": 25,
   "metadata": {},
   "outputs": [],
   "source": [
    "# sum, mul\n",
    "def sum_and_mul(a,b):\n",
    "    return a + b, a * b\n",
    "    return a * b"
   ]
  },
  {
   "cell_type": "code",
   "execution_count": 27,
   "metadata": {},
   "outputs": [
    {
     "name": "stdout",
     "output_type": "stream",
     "text": [
      "(3, 2)\n",
      "3\n",
      "2\n"
     ]
    }
   ],
   "source": [
    "print(sum_and_mul(1,2))\n",
    "print(sum_and_mul(1,2)[0])\n",
    "print(sum_and_mul(1,2)[1])"
   ]
  },
  {
   "cell_type": "code",
   "execution_count": 28,
   "metadata": {},
   "outputs": [],
   "source": [
    "# return\n",
    "# 1. 결과 반환\n",
    "# 2. 함수 종료"
   ]
  },
  {
   "cell_type": "code",
   "execution_count": 29,
   "metadata": {},
   "outputs": [],
   "source": [
    "def say_nick(nick): # nick 받겠다 선언\n",
    "    if nick == '바보':\n",
    "        return None # 함수 종료\n",
    "    else:\n",
    "        print(f'나의 별명은 {nick}입니다.')\n",
    "    # return None"
   ]
  },
  {
   "cell_type": "code",
   "execution_count": 35,
   "metadata": {},
   "outputs": [
    {
     "name": "stdout",
     "output_type": "stream",
     "text": [
      "나의 별명은 천사입니다.\n",
      "None\n"
     ]
    }
   ],
   "source": [
    "print(say_nick('천사'))"
   ]
  },
  {
   "cell_type": "code",
   "execution_count": 58,
   "metadata": {},
   "outputs": [
    {
     "name": "stdout",
     "output_type": "stream",
     "text": [
      "나의 이름은 홍길동입니다\n",
      "나이는 30입니다\n",
      "남자다\n",
      "나의 이름은 고길동입니다\n",
      "나이는 35입니다\n",
      "남자다\n",
      "나의 이름은 마이꼴입니다\n",
      "나이는 20입니다\n",
      "남자다\n"
     ]
    }
   ],
   "source": [
    "# default value 처리\n",
    "def say_myself(name, man, age):\n",
    "    print(f'나의 이름은 {name}입니다')\n",
    "    print(f'나이는 {age}입니다')\n",
    "    if man:\n",
    "        print('남자다')\n",
    "    else:\n",
    "        print('여자다')\n",
    "        \n",
    "data1 = {'name':'홍길동', 'age':30, 'man':True}\n",
    "data2 = {'name':'고길동', 'age':35, 'man':True}\n",
    "data3 = {'name':'마이꼴', 'age':20, 'man':True}\n",
    "say_myself(**data1) # ** 딕셔너리 받겠다, keyword argument 처리\n",
    "say_myself(**data2) \n",
    "say_myself(**data3)"
   ]
  },
  {
   "cell_type": "code",
   "execution_count": 54,
   "metadata": {},
   "outputs": [
    {
     "name": "stdout",
     "output_type": "stream",
     "text": [
      "나의 이름은 고길동입니다\n",
      "나이는 35입니다\n",
      "남자다\n"
     ]
    }
   ],
   "source": [
    "# 1. Positional Argument(대입)\n",
    "# say_myself('홍길동', True, 30)\n",
    "\n",
    "# 2. Keyword Argument(대입)\n",
    "# say_myself(name='홍길동', man=True, age=30)"
   ]
  },
  {
   "cell_type": "code",
   "execution_count": 59,
   "metadata": {},
   "outputs": [],
   "source": [
    "# Positional Argument\n",
    "# def say_myself(man=True, name, age): # 디폴트 처리 파라미터는 맨 뒤로 가야 한다.\n",
    "# def say_myself(name, man=True, age): # 디폴트 처리 파라미터는 맨 뒤로 가야 한다.\n",
    "\n",
    "# Keyword Argument => key = value\n",
    "# def say_myself(name='홍길동', man=True, age=30): # 디폴트 처리 파라미터는 맨 뒤로 가야 한다."
   ]
  },
  {
   "cell_type": "code",
   "execution_count": 66,
   "metadata": {},
   "outputs": [
    {
     "name": "stdout",
     "output_type": "stream",
     "text": [
      "2\n"
     ]
    }
   ],
   "source": [
    "# 지역 변수의 범위\n",
    "a = 1   # 전역(global)변수\n",
    "def vartest():\n",
    "    global a\n",
    "    a = a + 1 # a는 지역변수\n",
    "    return None\n",
    "\n",
    "def vartest(a):\n",
    "    a = a + 1\n",
    "    return a\n",
    "\n",
    "a = vartest(a)\n",
    "print(a)"
   ]
  },
  {
   "cell_type": "code",
   "execution_count": 72,
   "metadata": {},
   "outputs": [],
   "source": [
    "# Module\n",
    "# 변수, 함수, 클래스\n",
    "# 변수 사용하려고 만든것이다. , global 사용하지 말아라"
   ]
  },
  {
   "cell_type": "code",
   "execution_count": 75,
   "metadata": {},
   "outputs": [
    {
     "name": "stdout",
     "output_type": "stream",
     "text": [
      "\n"
     ]
    }
   ],
   "source": [
    "# input()\n",
    "a = input()\n",
    "print(a)"
   ]
  },
  {
   "cell_type": "code",
   "execution_count": 76,
   "metadata": {},
   "outputs": [
    {
     "name": "stdout",
     "output_type": "stream",
     "text": [
      "홍길동\n"
     ]
    }
   ],
   "source": [
    "a = input('이름 입력 : ')\n",
    "print(a)"
   ]
  },
  {
   "cell_type": "code",
   "execution_count": 86,
   "metadata": {},
   "outputs": [
    {
     "name": "stdout",
     "output_type": "stream",
     "text": [
      "10\n",
      "<class 'int'>\n"
     ]
    }
   ],
   "source": [
    "number = input('숫자입력 : ')\n",
    "print(number)\n",
    "print(type(int(number)))"
   ]
  },
  {
   "cell_type": "code",
   "execution_count": 93,
   "metadata": {},
   "outputs": [
    {
     "name": "stdout",
     "output_type": "stream",
     "text": [
      "1 2 3 4,1 2 3 4\n",
      "1 2 3 4\n",
      "1010\n"
     ]
    }
   ],
   "source": [
    "# print()\n",
    "print(1,2,3,4, end=',') # end = '\\n'\n",
    "print(1,2,3,4)\n",
    "print(1,2,3,4)"
   ]
  },
  {
   "cell_type": "code",
   "execution_count": 96,
   "metadata": {},
   "outputs": [],
   "source": [
    "# def print():\n",
    "#     x = 10\n",
    "#     print(x)"
   ]
  },
  {
   "cell_type": "code",
   "execution_count": 13,
   "metadata": {},
   "outputs": [],
   "source": [
    "def print_(*values, end='\\n'):\n",
    "    print(values, end=end)"
   ]
  },
  {
   "cell_type": "code",
   "execution_count": 14,
   "metadata": {},
   "outputs": [
    {
     "name": "stdout",
     "output_type": "stream",
     "text": [
      "(1, 2, 3)\n"
     ]
    }
   ],
   "source": [
    "print_(1,2,3)"
   ]
  }
 ],
 "metadata": {
  "kernelspec": {
   "display_name": "test",
   "language": "python",
   "name": "python3"
  },
  "language_info": {
   "codemirror_mode": {
    "name": "ipython",
    "version": 3
   },
   "file_extension": ".py",
   "mimetype": "text/x-python",
   "name": "python",
   "nbconvert_exporter": "python",
   "pygments_lexer": "ipython3",
   "version": "3.10.14"
  }
 },
 "nbformat": 4,
 "nbformat_minor": 2
}
