{
 "cells": [
  {
   "cell_type": "code",
   "execution_count": 2,
   "metadata": {},
   "outputs": [],
   "source": [
    "# 클래스 선언\n",
    "# 파이썬은 동적 언어 : 실행중에 추가(변수, 메소드)\n",
    "class Programmer:\n",
    "    pass\n",
    "\n"
   ]
  },
  {
   "cell_type": "code",
   "execution_count": 3,
   "metadata": {},
   "outputs": [],
   "source": [
    "kim = Programmer() # object 생성\n",
    "park = Programmer() # object 생성"
   ]
  },
  {
   "cell_type": "code",
   "execution_count": 4,
   "metadata": {},
   "outputs": [],
   "source": [
    "# 이야기 형식으로 클래스 기초 쌓기\n",
    "# 클래스 소유의 변수 : 자바 => static variable \n",
    "class Service : # 인터넷 서비스 업체\n",
    "    secret = '영구는 외계인이다.' # 클래스 변수, 클래스로 접근, 공유"
   ]
  },
  {
   "cell_type": "code",
   "execution_count": 8,
   "metadata": {},
   "outputs": [
    {
     "name": "stdout",
     "output_type": "stream",
     "text": [
      "영구는 외계인이다.\n",
      "영구는 외계인이다.\n",
      "영구는 외계인이다.\n"
     ]
    }
   ],
   "source": [
    "pey = Service()\n",
    "kim = Service()\n",
    "print(pey.secret) # pey로 secret 접근\n",
    "print(kim.secret) # kim로 secret 접근\n",
    "print(Service.secret) # Service 클래스명으로 secret 접근"
   ]
  },
  {
   "cell_type": "code",
   "execution_count": 14,
   "metadata": {},
   "outputs": [],
   "source": [
    "# 2. 메소드\n",
    "# summ() method 추가\n",
    "class Service:\n",
    "    secret = '영구는 외계인이다.' # 클래스 변수 : 오브젝트들이 공유 목적\n",
    "    \n",
    "    # def sum(a,b): # self 없는 메소드 static method => 클래스 메소드\n",
    "    #     result = a + b\n",
    "    #     print(f'{a} + {b} = {result}')\n",
    "\n",
    "    def sum(self, a, b): # self 있는 메소드 : 멤버 메소드\n",
    "        result = a + b\n",
    "        print(f'{a} + {b} = {result}')"
   ]
  },
  {
   "cell_type": "code",
   "execution_count": 16,
   "metadata": {},
   "outputs": [
    {
     "name": "stdout",
     "output_type": "stream",
     "text": [
      "영구는 외계인이다.\n",
      "1 + 2 = 3\n",
      "None\n"
     ]
    }
   ],
   "source": [
    "pey = Service()\n",
    "print(pey.secret)\n",
    "print(pey.sum(1,2))\n",
    "# print(Service.sum(1,2))"
   ]
  },
  {
   "cell_type": "code",
   "execution_count": 1,
   "metadata": {},
   "outputs": [],
   "source": [
    "class Service:\n",
    "    secret = '영구는 외계인'\n",
    "    \n",
    "    def sum(self, a, b): # 클래스의 메소드 : 반드시 클래스명으로 접근해야 한다.\n",
    "        result = a + b\n",
    "        print(f'{a} + {b} = {result}')"
   ]
  },
  {
   "cell_type": "code",
   "execution_count": 3,
   "metadata": {},
   "outputs": [
    {
     "name": "stdout",
     "output_type": "stream",
     "text": [
      "1 + 1 = 2\n",
      "None\n",
      "1 + 2 = 3\n",
      "None\n",
      "1 + 2 = 3\n",
      "1 + 2 = 3\n"
     ]
    }
   ],
   "source": [
    "kim = Service()\n",
    "park = Service()\n",
    "\n",
    "print(kim.sum(1,1))\n",
    "print(park.sum(1,2))\n",
    "\n",
    "slist = [kim, park]\n",
    "\n",
    "for stu in slist :\n",
    "    Service.sum(stu,1,2)"
   ]
  },
  {
   "cell_type": "code",
   "execution_count": 19,
   "metadata": {},
   "outputs": [],
   "source": [
    "# 인스턴스 변수 생성과 사용\n",
    "class Service :\n",
    "    secret = '영구는 외계인'\n",
    "    \n",
    "    def __init__(self, name) -> None: # 생성자 => 이름을 초기화\n",
    "        self.name = name # self.name => 변수 생성\n",
    "        \n",
    "    # 이름 변경시 사용하는 메소드    \n",
    "    def setName(self, name): # name : 파라미터(받는놈), 오브젝트에 소비자의 이름 설정(초기 설정 필요)\n",
    "        self.name = name # 인스턴스 변수 생성\n",
    "        \n",
    "    def sum(self, a, b):\n",
    "        result = a + b\n",
    "        print(f'{self.name}님 {a} + {b} = {result}') # self.name 사용\n",
    "        return None"
   ]
  },
  {
   "cell_type": "code",
   "execution_count": 24,
   "metadata": {},
   "outputs": [
    {
     "name": "stdout",
     "output_type": "stream",
     "text": [
      "홍길동님 1 + 2 = 3\n",
      "None\n",
      "Hong\n",
      "Hong님 2 + 5 = 7\n",
      "None\n",
      "고길동님 2 + 3 = 5\n",
      "None\n"
     ]
    }
   ],
   "source": [
    "kim = Service('홍길동')\n",
    "print(kim.sum(1,2))\n",
    "# kim.setName('Hong')\n",
    "kim.name = 'Hong' # SET 인스턴스 변수 => 속성(attribute) : get, set 가능하다\n",
    "print(kim.name) # name GET\n",
    "print(kim.sum(2,5))\n",
    "\n",
    "go = Service('고길동')\n",
    "# go.setName('고길동')\n",
    "print(go.sum(2,3))"
   ]
  },
  {
   "cell_type": "code",
   "execution_count": 8,
   "metadata": {},
   "outputs": [],
   "source": [
    "# 박씨네 집 클래스 생성\n",
    "class HousePark:\n",
    "    # 성은 공유 : 클래스변수 선언\n",
    "    lastName = '박'\n",
    "    \n",
    "    def __init__(self, firstName) -> None:\n",
    "        self.fullName = self.lastName + firstName\n",
    "        \n",
    "    # 이름(인스턴스변수) 지정 메소드\n",
    "    # HousePark.lastName, pey.lastName => self.lastName\n",
    "    def setName(self, name): # 이름 변경시 사용 필요\n",
    "        # self.firstName = name\n",
    "        self.fullName = self.lastName + name\n",
    "    def travel(self,where):\n",
    "        print(f'{self.fullName}, {where} 여행을 가다')"
   ]
  },
  {
   "cell_type": "code",
   "execution_count": 10,
   "metadata": {},
   "outputs": [
    {
     "name": "stdout",
     "output_type": "stream",
     "text": [
      "박찬호, 영국 여행을 가다\n",
      "박찬호, 제주도 여행을 가다\n",
      "박찬호, 울릉도 여행을 가다\n",
      "박찬호, 독도 여행을 가다\n"
     ]
    }
   ],
   "source": [
    "pey = HousePark('찬호')\n",
    "pey.travel('영국')\n",
    "pey.travel('제주도')\n",
    "pey.travel('울릉도')\n",
    "pey.travel('독도')"
   ]
  },
  {
   "cell_type": "code",
   "execution_count": 4,
   "metadata": {},
   "outputs": [
    {
     "name": "stdout",
     "output_type": "stream",
     "text": [
      "박\n",
      "페이\n",
      "박페이\n",
      "박\n",
      "찬호\n",
      "박찬호\n"
     ]
    }
   ],
   "source": [
    "pey = HousePark()\n",
    "pey.setName('페이')\n",
    "print(pey.lastName)\n",
    "print(pey.firstName)\n",
    "print(pey.fullName)\n",
    "\n",
    "chanho = HousePark()\n",
    "chanho.setName('찬호')\n",
    "print(chanho.lastName)\n",
    "print(chanho.firstName)\n",
    "print(chanho.fullName)"
   ]
  },
  {
   "cell_type": "code",
   "execution_count": 29,
   "metadata": {},
   "outputs": [],
   "source": [
    "# 상속해서 김씨네 생성\n",
    "class HouseKim(HousePark):\n",
    "    pass\n",
    "    # # 성은 공유 : 클래스변수 선언\n",
    "    # lastName = '박'\n",
    "    lastName = '김'\n",
    "    \n",
    "    # def __init__(self, firstName) -> None:\n",
    "    #     self.fullName = self.lastName + firstName\n",
    "        \n",
    "    # # 이름(인스턴스변수) 지정 메소드\n",
    "    # # HousePark.lastName, pey.lastName => self.lastName\n",
    "    # def setName(self, name): # 이름 변경시 사용 필요\n",
    "    #     # self.firstName = name\n",
    "    #     self.fullName = self.lastName + name\n",
    "    # def travel(self,where):\n",
    "    #     print(f'{self.fullName}, {where} 여행을 가다')\n",
    "    def travel(self,where):\n",
    "        print(f'{self.fullName}은 {where}로 여행을 합니다.')"
   ]
  },
  {
   "cell_type": "code",
   "execution_count": 19,
   "metadata": {},
   "outputs": [
    {
     "name": "stdout",
     "output_type": "stream",
     "text": [
      "김줄리엣은 울릉도로 여행을 합니다.\n"
     ]
    }
   ],
   "source": [
    "juliet = HouseKim('줄리엣')\n",
    "juliet.travel('울릉도')"
   ]
  },
  {
   "cell_type": "code",
   "execution_count": 37,
   "metadata": {},
   "outputs": [],
   "source": [
    "# 연산자 오버로딩 => + : 더하기 => 객체(박) + 객체(김) => 결혼했네\n",
    "class HousePark():\n",
    "    lastName = '박'\n",
    "    \n",
    "    def __init__(self,name) -> None:\n",
    "        self.fullName = self.lastName + name\n",
    "    \n",
    "    def travel(self,where):\n",
    "        print(f'{self.fullName},{where} 여행을 가다')\n",
    "        \n",
    "    def __add__(self,other): #  other : 다른 객체\n",
    "        print(f'{self.fullName}, {other.fullName} 결혼했네')\n",
    "        \n",
    "    def __sub__(self,other):\n",
    "        print(f'{self.fullName}, {other.fullName} 헤어졌네')"
   ]
  },
  {
   "cell_type": "code",
   "execution_count": 38,
   "metadata": {},
   "outputs": [
    {
     "name": "stdout",
     "output_type": "stream",
     "text": [
      "박찬호,독도 여행을 가다\n",
      "김줄리엣은 독도로 여행을 합니다.\n",
      "김줄리엣, 박찬호 결혼했네\n",
      "박찬호,제주도 여행을 가다\n",
      "김줄리엣은 울릉도로 여행을 합니다.\n",
      "박찬호, 김줄리엣 헤어졌네\n"
     ]
    }
   ],
   "source": [
    "pey = HousePark('찬호')\n",
    "# dir(pey)\n",
    "juliet = HouseKim('줄리엣')\n",
    "pey.travel('독도')\n",
    "juliet.travel('독도')\n",
    "juliet + pey\n",
    "pey.travel('제주도')\n",
    "juliet.travel('울릉도')\n",
    "pey - juliet"
   ]
  }
 ],
 "metadata": {
  "kernelspec": {
   "display_name": "test",
   "language": "python",
   "name": "python3"
  },
  "language_info": {
   "codemirror_mode": {
    "name": "ipython",
    "version": 3
   },
   "file_extension": ".py",
   "mimetype": "text/x-python",
   "name": "python",
   "nbconvert_exporter": "python",
   "pygments_lexer": "ipython3",
   "version": "3.10.14"
  }
 },
 "nbformat": 4,
 "nbformat_minor": 2
}
