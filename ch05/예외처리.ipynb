{
 "cells": [
  {
   "cell_type": "code",
   "execution_count": 10,
   "metadata": {},
   "outputs": [
    {
     "name": "stdout",
     "output_type": "stream",
     "text": [
      "에러났네~~~\n",
      "나 찍히나?\n"
     ]
    }
   ],
   "source": [
    "try:\n",
    "    4/0\n",
    "except:\n",
    "# except ZeroDivisionError:\n",
    "# except ZeroDivisionError as e:\n",
    "#     print('에러났네~~~',e.with_traceback)\n",
    "    print('에러났네~~~')\n",
    "print('나 찍히나?')"
   ]
  },
  {
   "cell_type": "code",
   "execution_count": 12,
   "metadata": {},
   "outputs": [
    {
     "name": "stdout",
     "output_type": "stream",
     "text": [
      "파일 없습니다.\n"
     ]
    }
   ],
   "source": [
    "# 파일 읽기\n",
    "# 파일 존재, 존재 않을 경우\n",
    "try:\n",
    "    f = open('foo.txt','r')\n",
    "except FileNotFoundError as e: # 파일이 없을 경우 실행되는 코드\n",
    "    print('파일 없습니다.')\n",
    "else: # 파일이 존재할 경우 실행되는 코드\n",
    "    data = f.read()\n",
    "finally: # 무조건 실행\n",
    "    f.close()"
   ]
  },
  {
   "cell_type": "code",
   "execution_count": 19,
   "metadata": {},
   "outputs": [
    {
     "name": "stdout",
     "output_type": "stream",
     "text": [
      "Index 오류 발생\n",
      "list index out of range\n"
     ]
    }
   ],
   "source": [
    "a = [1,2]\n",
    "try:\n",
    "    print(a[3]) # 오류 발생 => IndexError\n",
    "    print(4/0) # 오류 발생 => ZDError\n",
    "except IndexError as e:\n",
    "    print('Index 오류 발생')\n",
    "    print(e)\n",
    "except ZeroDivisionError as e:\n",
    "    print('0으로 나누면 삐짐')\n",
    "    print(e)"
   ]
  },
  {
   "cell_type": "code",
   "execution_count": 21,
   "metadata": {},
   "outputs": [
    {
     "name": "stdout",
     "output_type": "stream",
     "text": [
      "2\n",
      "division by zero\n"
     ]
    }
   ],
   "source": [
    "a = [1,2]\n",
    "try:\n",
    "    print(a[1]) # 오류 발생 => IndexError\n",
    "    print(4/0) # 오류 발생 => ZDError\n",
    "except (IndexError, ZeroDivisionError) as e:\n",
    "    print(e)"
   ]
  },
  {
   "cell_type": "code",
   "execution_count": 22,
   "metadata": {},
   "outputs": [],
   "source": [
    "try:\n",
    "    f = open('나 없는 파일','r')\n",
    "except FileNotFoundError as e:\n",
    "    pass"
   ]
  },
  {
   "cell_type": "code",
   "execution_count": 26,
   "metadata": {},
   "outputs": [],
   "source": [
    "class Bird:\n",
    "    def fly(self):\n",
    "        raise NotImplementedError"
   ]
  },
  {
   "cell_type": "code",
   "execution_count": 29,
   "metadata": {},
   "outputs": [],
   "source": [
    "class Eagle(Bird):\n",
    "    def fly(self):\n",
    "        print('very fast')"
   ]
  },
  {
   "cell_type": "code",
   "execution_count": 31,
   "metadata": {},
   "outputs": [
    {
     "name": "stdout",
     "output_type": "stream",
     "text": [
      "very fast\n"
     ]
    }
   ],
   "source": [
    "eagle = Eagle()\n",
    "eagle.fly()"
   ]
  },
  {
   "cell_type": "code",
   "execution_count": 18,
   "metadata": {},
   "outputs": [],
   "source": [
    "class MyError(Exception):\n",
    "    def __init__(self,msg=None): # 생성자 => 생성할 때 값을 넣어주어야 한다.\n",
    "            if msg:\n",
    "                self.msg = msg\n",
    "            else:\n",
    "                self.msg = 'My Error'\n",
    "        \n",
    "    def __str__(self): # 출력용이다, 입력받을 수 있는 놈이 아니다.\n",
    "        return self.msg"
   ]
  },
  {
   "cell_type": "code",
   "execution_count": 23,
   "metadata": {},
   "outputs": [],
   "source": [
    "def say_nick(nick):\n",
    "    if nick == '바보':\n",
    "        raise MyError('난 바보가 아니야') # new 해서 raise\n",
    "    print(nick)"
   ]
  },
  {
   "cell_type": "code",
   "execution_count": 24,
   "metadata": {},
   "outputs": [
    {
     "name": "stdout",
     "output_type": "stream",
     "text": [
      "난 바보가 아니야\n"
     ]
    }
   ],
   "source": [
    "try:\n",
    "    say_nick('바보')\n",
    "except MyError as e:\n",
    "    print(e) # 영원히 => 허용되지 않아!!!\n",
    "    # print('허용되지 않아')"
   ]
  }
 ],
 "metadata": {
  "kernelspec": {
   "display_name": "test",
   "language": "python",
   "name": "python3"
  },
  "language_info": {
   "codemirror_mode": {
    "name": "ipython",
    "version": 3
   },
   "file_extension": ".py",
   "mimetype": "text/x-python",
   "name": "python",
   "nbconvert_exporter": "python",
   "pygments_lexer": "ipython3",
   "version": "3.10.14"
  }
 },
 "nbformat": 4,
 "nbformat_minor": 2
}
