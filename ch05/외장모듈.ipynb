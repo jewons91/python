{
 "cells": [
  {
   "cell_type": "code",
   "execution_count": 3,
   "metadata": {},
   "outputs": [],
   "source": [
    "# pickle : 오브젝트를 파일에 저장하거나, 파일에 저장된 오브젝트를 읽어들일 때 사용\n",
    "import pickle\n",
    "data = {'name': '홍길동', 'age': 30} # dict object\n",
    "\n",
    "f = open('test.data','wb')\n",
    "pickle.dump(data, f) # object를 파일에 저장\n",
    "f.close()"
   ]
  },
  {
   "cell_type": "code",
   "execution_count": 5,
   "metadata": {},
   "outputs": [
    {
     "name": "stdout",
     "output_type": "stream",
     "text": [
      "{'name': '홍길동', 'age': 30}\n"
     ]
    }
   ],
   "source": [
    "f = open('./test.data','rb')\n",
    "data = pickle.load(f)\n",
    "print(data)\n",
    "f.close()"
   ]
  },
  {
   "cell_type": "code",
   "execution_count": 9,
   "metadata": {},
   "outputs": [
    {
     "name": "stdout",
     "output_type": "stream",
     "text": [
      "KeysView(environ({'ALLUSERSPROFILE': 'C:\\\\ProgramData', 'APPDATA': 'C:\\\\Users\\\\jewon\\\\AppData\\\\Roaming', 'APPLICATION_INSIGHTS_NO_DIAGNOSTIC_CHANNEL': '1', 'CHROME_CRASHPAD_PIPE_NAME': '\\\\\\\\.\\\\pipe\\\\crashpad_11752_HHTAXLLZQNQNYRFT', 'COMMONPROGRAMFILES': 'C:\\\\Program Files\\\\Common Files', 'COMMONPROGRAMFILES(X86)': 'C:\\\\Program Files (x86)\\\\Common Files', 'COMMONPROGRAMW6432': 'C:\\\\Program Files\\\\Common Files', 'COMPUTERNAME': 'JEWON', 'COMSPEC': 'C:\\\\WINDOWS\\\\system32\\\\cmd.exe', 'CONDA_DEFAULT_ENV': 'test', 'CONDA_EXE': 'C:\\\\ProgramData\\\\anaconda3\\\\Scripts\\\\conda.exe', 'CONDA_PREFIX': 'C:\\\\ProgramData\\\\anaconda3\\\\envs\\\\test', 'CONDA_PROMPT_MODIFIER': '(test) ', 'CONDA_PYTHON_EXE': 'C:\\\\ProgramData\\\\anaconda3\\\\python.exe', 'CONDA_ROOT': 'C:\\\\ProgramData\\\\anaconda3', 'CONDA_SHLVL': '1', 'DRIVERDATA': 'C:\\\\Windows\\\\System32\\\\Drivers\\\\DriverData', 'ELECTRON_RUN_AS_NODE': '1', 'HOMEDRIVE': 'C:', 'HOMEPATH': '\\\\Users\\\\jewon', 'JAVA_HOME': 'C:\\\\Program Files\\\\Eclipse Adoptium\\\\jdk-17.0.11.9-hotspot', 'LOCALAPPDATA': 'C:\\\\Users\\\\jewon\\\\AppData\\\\Local', 'LOGONSERVER': '\\\\\\\\JEWON', 'NUMBER_OF_PROCESSORS': '22', 'ONEDRIVE': 'C:\\\\Users\\\\jewon\\\\OneDrive', 'ORIGINAL_XDG_CURRENT_DESKTOP': 'undefined', 'OS': 'Windows_NT', 'PATH': 'c:\\\\ProgramData\\\\anaconda3\\\\envs\\\\test;C:\\\\ProgramData\\\\anaconda3\\\\envs\\\\test;C:\\\\ProgramData\\\\anaconda3\\\\envs\\\\test\\\\Library\\\\mingw-w64\\\\bin;C:\\\\ProgramData\\\\anaconda3\\\\envs\\\\test\\\\Library\\\\usr\\\\bin;C:\\\\ProgramData\\\\anaconda3\\\\envs\\\\test\\\\Library\\\\bin;C:\\\\ProgramData\\\\anaconda3\\\\envs\\\\test\\\\Scripts;C:\\\\ProgramData\\\\anaconda3\\\\envs\\\\test\\\\bin;C:\\\\ProgramData\\\\anaconda3\\\\condabin;C:\\\\Program Files\\\\Eclipse Adoptium\\\\jdk-17.0.11.9-hotspot\\\\bin;C:\\\\oraclexe\\\\app\\\\oracle\\\\product\\\\11.2.0\\\\server\\\\bin;C:\\\\Program Files\\\\Eclipse Adoptium\\\\jdk-17.0.11.9-hotspot\\\\bin;C:\\\\WINDOWS\\\\system32;C:\\\\WINDOWS;C:\\\\WINDOWS\\\\System32\\\\Wbem;C:\\\\WINDOWS\\\\System32\\\\WindowsPowerShell\\\\v1.0;C:\\\\WINDOWS\\\\System32\\\\OpenSSH;C:\\\\Program Files\\\\Bandizip;C:\\\\ProgramData\\\\anaconda3;C:\\\\ProgramData\\\\anaconda3\\\\Scripts;C:\\\\ProgramData\\\\anaconda3\\\\Library;C:\\\\Users\\\\jewon\\\\AppData\\\\Local\\\\Microsoft\\\\WindowsApps;C:\\\\Users\\\\jewon\\\\AppData\\\\Local\\\\Programs\\\\Microsoft VS Code\\\\bin', 'PATHEXT': '.COM;.EXE;.BAT;.CMD;.VBS;.VBE;.JS;.JSE;.WSF;.WSH;.MSC', 'PROCESSOR_ARCHITECTURE': 'AMD64', 'PROCESSOR_IDENTIFIER': 'Intel64 Family 6 Model 170 Stepping 4, GenuineIntel', 'PROCESSOR_LEVEL': '6', 'PROCESSOR_REVISION': 'aa04', 'PROGRAMDATA': 'C:\\\\ProgramData', 'PROGRAMFILES': 'C:\\\\Program Files', 'PROGRAMFILES(X86)': 'C:\\\\Program Files (x86)', 'PROGRAMW6432': 'C:\\\\Program Files', 'PROMPT': '(test) $P$G', 'PSMODULEPATH': 'C:\\\\Program Files\\\\WindowsPowerShell\\\\Modules;C:\\\\WINDOWS\\\\system32\\\\WindowsPowerShell\\\\v1.0\\\\Modules', 'PUBLIC': 'C:\\\\Users\\\\Public', 'PYDEVD_IPYTHON_COMPATIBLE_DEBUGGING': '1', 'PYTHONIOENCODING': 'utf-8', 'PYTHONUNBUFFERED': '1', 'PYTHONUTF8': '1', 'PYTHON_FROZEN_MODULES': 'on', 'SSL_CERT_FILE': 'C:\\\\ProgramData\\\\anaconda3\\\\envs\\\\test\\\\Library\\\\ssl\\\\cacert.pem', 'SYSTEMDRIVE': 'C:', 'SYSTEMROOT': 'C:\\\\WINDOWS', 'TEMP': 'C:\\\\Users\\\\jewon\\\\AppData\\\\Local\\\\Temp', 'TMP': 'C:\\\\Users\\\\jewon\\\\AppData\\\\Local\\\\Temp', 'USERDOMAIN': 'JEWON', 'USERDOMAIN_ROAMINGPROFILE': 'JEWON', 'USERNAME': 'jewon', 'USERPROFILE': 'C:\\\\Users\\\\jewon', 'VSCODE_AMD_ENTRYPOINT': 'vs/workbench/api/node/extensionHostProcess', 'VSCODE_CODE_CACHE_PATH': 'C:\\\\Users\\\\jewon\\\\AppData\\\\Roaming\\\\Code\\\\CachedData\\\\611f9bfce64f25108829dd295f54a6894e87339d', 'VSCODE_CRASH_REPORTER_PROCESS_TYPE': 'extensionHost', 'VSCODE_CWD': 'C:\\\\Users\\\\jewon\\\\AppData\\\\Local\\\\Programs\\\\Microsoft VS Code', 'VSCODE_HANDLES_UNCAUGHT_ERRORS': 'true', 'VSCODE_IPC_HOOK': '\\\\\\\\.\\\\pipe\\\\258845df-1.90.1-main-sock', 'VSCODE_L10N_BUNDLE_LOCATION': '', 'VSCODE_NLS_CONFIG': '{\"locale\":\"en-us\",\"osLocale\":\"ko\",\"availableLanguages\":{},\"_languagePackSupport\":true}', 'VSCODE_PID': '11752', 'WINDIR': 'C:\\\\WINDOWS', 'ZES_ENABLE_SYSMAN': '1', '_CONDA_OLD_CHCP': '949', '__CONDA_OPENSLL_CERT_FILE_SET': '\"1\"', 'PYDEVD_USE_FRAME_EVAL': 'NO', 'TERM': 'xterm-color', 'CLICOLOR': '1', 'FORCE_COLOR': '1', 'CLICOLOR_FORCE': '1', 'PAGER': 'cat', 'GIT_PAGER': 'cat', 'MPLBACKEND': 'module://matplotlib_inline.backend_inline'}))\n"
     ]
    }
   ],
   "source": [
    "# os 모듈 사용\n",
    "import os\n",
    "\n",
    "# print(os.environ)\n",
    "print(os.environ.keys())"
   ]
  },
  {
   "cell_type": "code",
   "execution_count": 11,
   "metadata": {},
   "outputs": [
    {
     "name": "stdout",
     "output_type": "stream",
     "text": [
      "c:\\big18\\python\\ch05\n",
      "c:\\big18\\python\n"
     ]
    }
   ],
   "source": [
    "# 현재 작업 디렉토리 확인\n",
    "print(os.getcwd()) # 확인\n",
    "os.chdir('../') # 상위 디렉토리로 작업 디렉토리 변경\n",
    "print(os.getcwd()) # 확인"
   ]
  },
  {
   "cell_type": "code",
   "execution_count": 15,
   "metadata": {},
   "outputs": [
    {
     "data": {
      "text/plain": [
       "'c:\\\\big18\\\\python\\\\ch05'"
      ]
     },
     "execution_count": 15,
     "metadata": {},
     "output_type": "execute_result"
    }
   ],
   "source": [
    "# 명령어 호출 : os.system(명령어)\n",
    "os.system('dir')"
   ]
  },
  {
   "cell_type": "code",
   "execution_count": 16,
   "metadata": {},
   "outputs": [
    {
     "data": {
      "text/plain": [
       "'dst.data'"
      ]
     },
     "execution_count": 16,
     "metadata": {},
     "output_type": "execute_result"
    }
   ],
   "source": [
    "# 파일 복사 : shutil\n",
    "import shutil\n",
    "\n",
    "# os.chdir('./ch05')\n",
    "# print(os.getcwd())\n",
    "shutil.copy('test.data','dst.data')"
   ]
  },
  {
   "cell_type": "code",
   "execution_count": 20,
   "metadata": {},
   "outputs": [
    {
     "name": "stdout",
     "output_type": "stream",
     "text": [
      "['dst.data', 'test.data']\n"
     ]
    }
   ],
   "source": [
    "# glob module\n",
    "# 현재 디렉토리 안에서 .data 끝나는 파일 목록 추출\n",
    "import glob\n",
    "\n",
    "flist = glob.glob('*.data')\n",
    "print(flist)"
   ]
  },
  {
   "cell_type": "code",
   "execution_count": 1,
   "metadata": {},
   "outputs": [
    {
     "name": "stdout",
     "output_type": "stream",
     "text": [
      "1719454782.791331\n"
     ]
    }
   ],
   "source": [
    "# (외부모듈)time module\n",
    "import time\n",
    "print(time.time()) # 현재 날짜와 시간을 실수형태로 반환"
   ]
  },
  {
   "cell_type": "code",
   "execution_count": 7,
   "metadata": {},
   "outputs": [
    {
     "name": "stdout",
     "output_type": "stream",
     "text": [
      "time.struct_time(tm_year=2024, tm_mon=6, tm_mday=27, tm_hour=11, tm_min=24, tm_sec=14, tm_wday=3, tm_yday=179, tm_isdst=0)\n",
      "time.struct_time(tm_year=2024, tm_mon=6, tm_mday=27, tm_hour=11, tm_min=24, tm_sec=14, tm_wday=3, tm_yday=179, tm_isdst=0)\n",
      "2024 년 6 월 27 일\n"
     ]
    }
   ],
   "source": [
    "# localtime()\n",
    "print(time.localtime(time.time()))\n",
    "print(time.localtime())\n",
    "ct = time.localtime()\n",
    "print(ct.tm_year,'년', ct.tm_mon,'월', ct.tm_mday,'일')"
   ]
  },
  {
   "cell_type": "code",
   "execution_count": 10,
   "metadata": {},
   "outputs": [
    {
     "data": {
      "text/plain": [
       "'2024-06-27 11:28:00'"
      ]
     },
     "execution_count": 10,
     "metadata": {},
     "output_type": "execute_result"
    }
   ],
   "source": [
    "# strftime(형식, 날짜시간 object)\n",
    "struct_time = time.localtime() # 현재 날짜와 시간 처리하는 코드\n",
    "time.strftime('%Y-%m-%d %H:%M:%S', struct_time)"
   ]
  },
  {
   "cell_type": "code",
   "execution_count": 11,
   "metadata": {},
   "outputs": [
    {
     "name": "stdout",
     "output_type": "stream",
     "text": [
      "<class 'time.struct_time'>\n",
      "time.struct_time(tm_year=2024, tm_mon=10, tm_mday=11, tm_hour=18, tm_min=30, tm_sec=0, tm_wday=4, tm_yday=285, tm_isdst=-1)\n"
     ]
    }
   ],
   "source": [
    "# 특정 날짜와 시간을 다루는 object 생성\n",
    "time_string = '2024-10-11 18:30:00'\n",
    "formatted_time = time.strptime(time_string, '%Y-%m-%d %H:%M:%S')\n",
    "print(type(formatted_time))\n",
    "print(formatted_time)"
   ]
  },
  {
   "cell_type": "code",
   "execution_count": 12,
   "metadata": {},
   "outputs": [
    {
     "name": "stdout",
     "output_type": "stream",
     "text": [
      "1\n",
      "2\n",
      "3\n",
      "4\n",
      "5\n",
      "6\n",
      "7\n",
      "8\n",
      "9\n",
      "10\n",
      "10.085455100022955\n"
     ]
    }
   ],
   "source": [
    "# 시간 측정\n",
    "import time\n",
    "\n",
    "start = time.perf_counter()\n",
    "for i in range(1,11):\n",
    "    print(i)\n",
    "    time.sleep(1) # 1초\n",
    "\n",
    "end = time.perf_counter()\n",
    "print(end - start) # 실행시간"
   ]
  },
  {
   "cell_type": "code",
   "execution_count": 13,
   "metadata": {},
   "outputs": [],
   "source": [
    "# 간단한 타이머 구현\n",
    "import time\n",
    "\n",
    "def count_timer(seconds):\n",
    "    while seconds:\n",
    "        mins, secs = divmod(seconds, 60)\n",
    "        print(f'{mins:02d}:{secs:02d}')\n",
    "        time.sleep(1)\n",
    "        seconds -= 1"
   ]
  },
  {
   "cell_type": "code",
   "execution_count": 15,
   "metadata": {},
   "outputs": [
    {
     "name": "stdout",
     "output_type": "stream",
     "text": [
      "01:40\n",
      "01:39\n",
      "01:38\n",
      "01:37\n",
      "01:36\n",
      "01:35\n",
      "01:34\n",
      "01:33\n",
      "01:32\n",
      "01:31\n",
      "01:30\n",
      "01:29\n",
      "01:28\n",
      "01:27\n",
      "01:26\n",
      "01:25\n",
      "01:24\n",
      "01:23\n",
      "01:22\n",
      "01:21\n",
      "01:20\n",
      "01:19\n",
      "01:18\n",
      "01:17\n",
      "01:16\n",
      "01:15\n",
      "01:14\n",
      "01:13\n",
      "01:12\n",
      "01:11\n",
      "01:10\n",
      "01:09\n",
      "01:08\n",
      "01:07\n",
      "01:06\n",
      "01:05\n",
      "01:04\n",
      "01:03\n",
      "01:02\n",
      "01:01\n",
      "01:00\n",
      "00:59\n",
      "00:58\n",
      "00:57\n",
      "00:56\n",
      "00:55\n",
      "00:54\n",
      "00:53\n",
      "00:52\n",
      "00:51\n",
      "00:50\n",
      "00:49\n",
      "00:48\n",
      "00:47\n",
      "00:46\n",
      "00:45\n",
      "00:44\n",
      "00:43\n",
      "00:42\n",
      "00:41\n",
      "00:40\n",
      "00:39\n",
      "00:38\n",
      "00:37\n",
      "00:36\n",
      "00:35\n",
      "00:34\n",
      "00:33\n",
      "00:32\n",
      "00:31\n",
      "00:30\n",
      "00:29\n",
      "00:28\n",
      "00:27\n",
      "00:26\n",
      "00:25\n",
      "00:24\n",
      "00:23\n",
      "00:22\n",
      "00:21\n",
      "00:20\n",
      "00:19\n",
      "00:18\n",
      "00:17\n",
      "00:16\n",
      "00:15\n",
      "00:14\n",
      "00:13\n",
      "00:12\n",
      "00:11\n",
      "00:10\n",
      "00:09\n",
      "00:08\n",
      "00:07\n",
      "00:06\n",
      "00:05\n",
      "00:04\n",
      "00:03\n",
      "00:02\n",
      "00:01\n"
     ]
    }
   ],
   "source": [
    "count_timer(100)"
   ]
  },
  {
   "cell_type": "code",
   "execution_count": 16,
   "metadata": {},
   "outputs": [
    {
     "name": "stdout",
     "output_type": "stream",
     "text": [
      "                                  2024\n",
      "\n",
      "      January                   February                   March\n",
      "Mo Tu We Th Fr Sa Su      Mo Tu We Th Fr Sa Su      Mo Tu We Th Fr Sa Su\n",
      " 1  2  3  4  5  6  7                1  2  3  4                   1  2  3\n",
      " 8  9 10 11 12 13 14       5  6  7  8  9 10 11       4  5  6  7  8  9 10\n",
      "15 16 17 18 19 20 21      12 13 14 15 16 17 18      11 12 13 14 15 16 17\n",
      "22 23 24 25 26 27 28      19 20 21 22 23 24 25      18 19 20 21 22 23 24\n",
      "29 30 31                  26 27 28 29               25 26 27 28 29 30 31\n",
      "\n",
      "       April                      May                       June\n",
      "Mo Tu We Th Fr Sa Su      Mo Tu We Th Fr Sa Su      Mo Tu We Th Fr Sa Su\n",
      " 1  2  3  4  5  6  7             1  2  3  4  5                      1  2\n",
      " 8  9 10 11 12 13 14       6  7  8  9 10 11 12       3  4  5  6  7  8  9\n",
      "15 16 17 18 19 20 21      13 14 15 16 17 18 19      10 11 12 13 14 15 16\n",
      "22 23 24 25 26 27 28      20 21 22 23 24 25 26      17 18 19 20 21 22 23\n",
      "29 30                     27 28 29 30 31            24 25 26 27 28 29 30\n",
      "\n",
      "        July                     August                  September\n",
      "Mo Tu We Th Fr Sa Su      Mo Tu We Th Fr Sa Su      Mo Tu We Th Fr Sa Su\n",
      " 1  2  3  4  5  6  7                1  2  3  4                         1\n",
      " 8  9 10 11 12 13 14       5  6  7  8  9 10 11       2  3  4  5  6  7  8\n",
      "15 16 17 18 19 20 21      12 13 14 15 16 17 18       9 10 11 12 13 14 15\n",
      "22 23 24 25 26 27 28      19 20 21 22 23 24 25      16 17 18 19 20 21 22\n",
      "29 30 31                  26 27 28 29 30 31         23 24 25 26 27 28 29\n",
      "                                                    30\n",
      "\n",
      "      October                   November                  December\n",
      "Mo Tu We Th Fr Sa Su      Mo Tu We Th Fr Sa Su      Mo Tu We Th Fr Sa Su\n",
      "    1  2  3  4  5  6                   1  2  3                         1\n",
      " 7  8  9 10 11 12 13       4  5  6  7  8  9 10       2  3  4  5  6  7  8\n",
      "14 15 16 17 18 19 20      11 12 13 14 15 16 17       9 10 11 12 13 14 15\n",
      "21 22 23 24 25 26 27      18 19 20 21 22 23 24      16 17 18 19 20 21 22\n",
      "28 29 30 31               25 26 27 28 29 30         23 24 25 26 27 28 29\n",
      "                                                    30 31\n",
      "\n"
     ]
    }
   ],
   "source": [
    "# calender\n",
    "import calendar\n",
    "\n",
    "print(calendar.calendar(2024))"
   ]
  },
  {
   "cell_type": "code",
   "execution_count": 17,
   "metadata": {},
   "outputs": [
    {
     "name": "stdout",
     "output_type": "stream",
     "text": [
      "    October 2024\n",
      "Mo Tu We Th Fr Sa Su\n",
      "    1  2  3  4  5  6\n",
      " 7  8  9 10 11 12 13\n",
      "14 15 16 17 18 19 20\n",
      "21 22 23 24 25 26 27\n",
      "28 29 30 31\n"
     ]
    }
   ],
   "source": [
    "calendar.prmonth(2024,10)"
   ]
  },
  {
   "cell_type": "code",
   "execution_count": 18,
   "metadata": {},
   "outputs": [
    {
     "name": "stdout",
     "output_type": "stream",
     "text": [
      "3\n"
     ]
    }
   ],
   "source": [
    "print(calendar.weekday(2024,6,27)) # 월요일 부터 요일 출력"
   ]
  },
  {
   "cell_type": "code",
   "execution_count": 19,
   "metadata": {},
   "outputs": [
    {
     "name": "stdout",
     "output_type": "stream",
     "text": [
      "(5, 30)\n"
     ]
    }
   ],
   "source": [
    "print(calendar.monthrange(2024,6)) # return (요일, 몇일)"
   ]
  },
  {
   "cell_type": "code",
   "execution_count": null,
   "metadata": {},
   "outputs": [],
   "source": [
    "# datetime\n",
    "# 주요 클래스\n",
    "# date : 날짜를 처리하기 위한 클래스\n",
    "# time : 시간을 처리하기 위한 클래스\n",
    "# datetime : 날짜, 시간을 처리하기 위한 클래스\n",
    "# timedelta : 날짜, 시간의 차이 처리하기 위한 클래스\n",
    "# tzinfo : 시간대 정보를 처리하기 위한 클래스"
   ]
  },
  {
   "cell_type": "code",
   "execution_count": 24,
   "metadata": {},
   "outputs": [
    {
     "name": "stdout",
     "output_type": "stream",
     "text": [
      "2024-06-27\n",
      "<class 'datetime.date'>\n",
      "2024-10-11\n"
     ]
    }
   ],
   "source": [
    "# 클래스별 주요 속성과 메소드\n",
    "# 1. date class\n",
    "# 생성자 : date(year, month, day)\n",
    "# 속성 : year, month, day\n",
    "# 메소드 : today(), strftime(), replace()\n",
    "# import datetime\n",
    "from datetime import date\n",
    "\n",
    "# 오늘 날짜 처리\n",
    "# today = datetime.date.today()\n",
    "today = date.today()\n",
    "print(today)\n",
    "\n",
    "# 특정 날짜 처리\n",
    "specific_date = date(2024,10,11) # 종강일\n",
    "print(type(specific_date))\n",
    "print(specific_date)"
   ]
  },
  {
   "cell_type": "code",
   "execution_count": 26,
   "metadata": {},
   "outputs": [
    {
     "name": "stdout",
     "output_type": "stream",
     "text": [
      "12:23:30\n"
     ]
    }
   ],
   "source": [
    "# 시간 처리\n",
    "# 생성 : time(hour=0, minute=0, second=0, microsecond=0, tzinfo=None, *, fold=0)\n",
    "# 속성 : hour, minute, second, microsecond\n",
    "# 메소드 : strftime(), replace() 변경가능\n",
    "from datetime import time # time class\n",
    "s_time = time(12, 23, 30)\n",
    "print(s_time)"
   ]
  },
  {
   "cell_type": "code",
   "execution_count": 32,
   "metadata": {},
   "outputs": [
    {
     "name": "stdout",
     "output_type": "stream",
     "text": [
      "2024-06-27 12:31:21.467428\n",
      "2024-06-27 12:31:21.467429\n",
      "2024-10-11 18:30:00\n",
      "2024-10-11 00:00:00\n"
     ]
    }
   ],
   "source": [
    "# datetime class\n",
    "# 생성 : datetime(year, month, day, hour=0, minute=0, second=0, microsecond=0, ,,,)\n",
    "# year, month, day <= 필요 입력\n",
    "# 속성 : year, month, day, hour, minute, second, microsecond\n",
    "# 메소드 : now(), today(), strptime(), strftime(), replace()\n",
    "from datetime import datetime # class import\n",
    "# 현재 날짜 시간\n",
    "now = datetime.now()\n",
    "print(now)\n",
    "today = datetime.today()\n",
    "print(today)\n",
    "\n",
    "# 특정 날짜 시간 처리\n",
    "s_datetime = datetime(2024,10,11,18,30,00)\n",
    "print(s_datetime)\n",
    "s1_datetime = datetime(2024,10,11)\n",
    "print(s1_datetime)"
   ]
  },
  {
   "cell_type": "code",
   "execution_count": 33,
   "metadata": {},
   "outputs": [
    {
     "name": "stdout",
     "output_type": "stream",
     "text": [
      "5 days, 0:00:00\n"
     ]
    }
   ],
   "source": [
    "# timedelta\n",
    "# 생성 : timedelta(days=0, seconds=0, microseconds=0, milliseconds=0, minutes=0, hours=0, weeks=0)\n",
    "# 속성 : days, seconds, microseconds\n",
    "# 메소드 없음\n",
    "from datetime import timedelta\n",
    "delta = timedelta(days=5)\n",
    "print(delta)"
   ]
  },
  {
   "cell_type": "code",
   "execution_count": 36,
   "metadata": {},
   "outputs": [
    {
     "name": "stdout",
     "output_type": "stream",
     "text": [
      "2024-06-27 13:48:29.509042\n",
      "2024-10-05 13:48:29.509042\n"
     ]
    }
   ],
   "source": [
    "# timedelta 활용 예제\n",
    "# 현재시간 기준으로 100일 후 시간\n",
    "\n",
    "from datetime import datetime, timedelta\n",
    "\n",
    "# 현재시간\n",
    "now = datetime.now() # datetime object\n",
    "print(now)\n",
    "\n",
    "now100 = now + timedelta(days=100)\n",
    "print(now100)"
   ]
  },
  {
   "cell_type": "code",
   "execution_count": 40,
   "metadata": {},
   "outputs": [
    {
     "name": "stdout",
     "output_type": "stream",
     "text": [
      "2024-06-27 13:48:21\n",
      "2024-06-27 13:56:37.344094\n",
      "2024-06-27\n"
     ]
    }
   ],
   "source": [
    "# datetime class : strptime, strftime 예제\n",
    "# strptime : 문자열을 datetime object 변환\n",
    "date_str = '2024-06-27 13:48:21'\n",
    "date_obj = datetime.strptime(date_str, '%Y-%m-%d %H:%M:%S')\n",
    "print(date_obj)\n",
    "\n",
    "# strftime : datetime object를 문자열 변환\n",
    "now = datetime.now()\n",
    "print(now)\n",
    "s_date = now.strftime('%Y-%m-%d')\n",
    "print(s_date)"
   ]
  },
  {
   "cell_type": "code",
   "execution_count": 43,
   "metadata": {},
   "outputs": [
    {
     "name": "stdout",
     "output_type": "stream",
     "text": [
      "4\n",
      "3\n",
      "1\n",
      "5\n",
      "2\n"
     ]
    }
   ],
   "source": [
    "# random module\n",
    "import random\n",
    "\n",
    "def random_pop(list_): # list_ <= data = [1,2,3,4,5], data[0], data[4]\n",
    "    idx = random.randint(0, len(list_)-1)\n",
    "    print(list_.pop(idx))\n",
    "    \n",
    "data = [1,2,3,4,5]\n",
    "while data:\n",
    "    random_pop(data)"
   ]
  },
  {
   "cell_type": "code",
   "execution_count": 45,
   "metadata": {},
   "outputs": [
    {
     "name": "stdout",
     "output_type": "stream",
     "text": [
      "[4, 5, 2, 1, 3]\n"
     ]
    }
   ],
   "source": [
    "# shuffle method\n",
    "data = [1,2,3,4,5]\n",
    "random.shuffle(data) # 섞는다\n",
    "print(data)"
   ]
  },
  {
   "cell_type": "code",
   "execution_count": 61,
   "metadata": {},
   "outputs": [
    {
     "name": "stdout",
     "output_type": "stream",
     "text": [
      "2\n",
      "2\n",
      "5\n",
      "3\n",
      "3\n"
     ]
    }
   ],
   "source": [
    "# choice method : 1개 추출, 복원 추출\n",
    "def random_choice(list_):\n",
    "    number = random.choice(list_)\n",
    "    return number\n",
    "\n",
    "data = [1,2,3,4,5]\n",
    "for _ in range(5):\n",
    "    print(random_choice(data))"
   ]
  },
  {
   "cell_type": "code",
   "execution_count": 62,
   "metadata": {},
   "outputs": [
    {
     "name": "stdout",
     "output_type": "stream",
     "text": [
      "5\n"
     ]
    }
   ],
   "source": [
    "# randrange(start, stop, step)\n",
    "print(random.randrange(1,10,2))"
   ]
  },
  {
   "cell_type": "code",
   "execution_count": 94,
   "metadata": {},
   "outputs": [
    {
     "name": "stdout",
     "output_type": "stream",
     "text": [
      "['cherry', 'apple', 'cherry']\n"
     ]
    }
   ],
   "source": [
    "# choices : choices(population, weights=None, *, cum_weight=None, k=1)\n",
    "datas = ['apple', 'banana', 'cherry','7','77','777']\n",
    "print(random.choices(datas, weights=[6,5,4,3,2,1], k=3)) # 복원 추출"
   ]
  },
  {
   "cell_type": "code",
   "execution_count": 100,
   "metadata": {},
   "outputs": [
    {
     "name": "stdout",
     "output_type": "stream",
     "text": [
      "['apple', '7']\n"
     ]
    }
   ],
   "source": [
    "# 비복원 추출 : sample(data, k)\n",
    "datas = ['apple', 'banana', 'cherry','7','77','777']\n",
    "print(random.sample(datas,2))"
   ]
  },
  {
   "cell_type": "code",
   "execution_count": 101,
   "metadata": {},
   "outputs": [
    {
     "name": "stdout",
     "output_type": "stream",
     "text": [
      "19335.89816909731\n"
     ]
    }
   ],
   "source": [
    "# random.uniform(a, b) : a~b 사이의 실수형태의 난수 변환\n",
    "# uniform : 균등 분포\n",
    "# random data 생성 사용\n",
    "# 종목 : 최소값, 최대값\n",
    "max_ = 20000\n",
    "min_ = 18000\n",
    "print(random.uniform(min_,max_))"
   ]
  },
  {
   "cell_type": "code",
   "execution_count": 114,
   "metadata": {},
   "outputs": [
    {
     "name": "stdout",
     "output_type": "stream",
     "text": [
      "1000000\n"
     ]
    },
    {
     "data": {
      "image/png": "[encoded data removed]",
      "text/plain": [
       "<Figure size 640x480 with 1 Axes>"
      ]
     },
     "metadata": {},
     "output_type": "display_data"
    }
   ],
   "source": [
    "# uniform\n",
    "import random\n",
    "import matplotlib.pyplot as plt\n",
    "\n",
    "a = 0\n",
    "b = 1\n",
    "samples = [random.uniform(a,b) for _ in range(1000000)]\n",
    "print(len(samples))\n",
    "\n",
    "plt.hist(samples, bins=50, edgecolor='black')\n",
    "plt.show()"
   ]
  },
  {
   "cell_type": "code",
   "execution_count": 128,
   "metadata": {},
   "outputs": [
    {
     "name": "stdout",
     "output_type": "stream",
     "text": [
      "2\n"
     ]
    }
   ],
   "source": [
    "# random 처리시 중요 : seed, 시드값\n",
    "random.seed(42)\n",
    "print(random.randint(1,10))"
   ]
  },
  {
   "cell_type": "code",
   "execution_count": 130,
   "metadata": {},
   "outputs": [
    {
     "data": {
      "text/plain": [
       "True"
      ]
     },
     "execution_count": 130,
     "metadata": {},
     "output_type": "execute_result"
    }
   ],
   "source": [
    "import webbrowser\n",
    "webbrowser.open('https://www.naver.com')"
   ]
  },
  {
   "cell_type": "code",
   "execution_count": 1,
   "metadata": {},
   "outputs": [
    {
     "name": "stdout",
     "output_type": "stream",
     "text": [
      "you\n",
      "need\n",
      "python\n",
      "0\n",
      "1\n",
      "2\n",
      "3\n",
      "4\n",
      "5\n",
      "6\n",
      "7\n",
      "8\n",
      "9\n",
      "python\n",
      "need\n",
      "you\n",
      "10\n",
      "11\n",
      "12\n",
      "13\n",
      "14\n",
      "15\n",
      "16\n",
      "17\n",
      "18\n",
      "python\n",
      "you\n",
      "need\n",
      "19\n",
      "20\n",
      "21\n",
      "22\n",
      "23\n",
      "24\n",
      "25\n",
      "26\n",
      "27\n",
      "need\n",
      "you\n",
      "python\n",
      "28\n",
      "29\n",
      "30\n",
      "31\n",
      "32\n",
      "33\n",
      "34\n",
      "35\n",
      "36\n",
      "python\n",
      "you\n",
      "need\n",
      "37\n",
      "38\n",
      "39\n",
      "40\n",
      "41\n",
      "42\n",
      "43\n",
      "44\n",
      "45\n",
      "46\n",
      "need\n",
      "you\n",
      "python\n",
      "47\n",
      "48\n",
      "49\n",
      "50\n",
      "51\n",
      "52\n",
      "53\n",
      "54\n",
      "55\n",
      "python\n",
      "you\n",
      "need\n",
      "56\n",
      "57\n",
      "58\n",
      "59\n",
      "60\n",
      "61\n",
      "62\n",
      "63\n",
      "64\n",
      "need\n",
      "you\n",
      "python\n",
      "65\n",
      "66\n",
      "67\n",
      "68\n",
      "69\n",
      "70\n",
      "71\n",
      "72\n",
      "73\n",
      "python\n",
      "you\n",
      "need\n",
      "74\n",
      "75\n",
      "76\n",
      "77\n",
      "78\n",
      "79\n",
      "80\n",
      "81\n",
      "82\n",
      "83\n",
      "need\n",
      "you\n",
      "python\n",
      "84\n",
      "85\n",
      "86\n",
      "87\n",
      "88\n",
      "89\n",
      "90\n",
      "91\n",
      "92\n",
      "python\n",
      "need\n",
      "you\n",
      "93\n",
      "94\n",
      "95\n",
      "96\n",
      "97\n",
      "98\n",
      "99\n"
     ]
    },
    {
     "name": "stdout",
     "output_type": "stream",
     "text": [
      "needpython\n",
      "you\n",
      "\n",
      "needyou\n",
      "\n",
      "python\n",
      "pythonneed\n",
      "you\n",
      "\n",
      "pythonyou\n",
      "\n",
      "need\n",
      "needpython\n",
      "you\n",
      "\n",
      "youneed\n",
      "python\n",
      "\n",
      "pythonyou\n",
      "\n",
      "need\n",
      "needpython\n",
      "\n",
      "you\n",
      "youneed\n",
      "python\n",
      "\n",
      "you\n",
      "python\n",
      "need\n",
      "need\n",
      "python\n",
      "you\n",
      "youpython\n",
      "need\n",
      "\n",
      "youneed\n",
      "\n",
      "python\n",
      "python\n",
      "you\n",
      "need\n",
      "need\n",
      "you\n",
      "python\n",
      "you\n",
      "python\n",
      "need\n",
      "needpython\n",
      "you\n",
      "\n",
      "youneed\n",
      "python\n",
      "\n",
      "youpython\n",
      "need\n",
      "\n",
      "youpython\n",
      "need\n",
      "\n",
      "youneed\n",
      "python\n",
      "\n",
      "you\n",
      "python\n",
      "need\n",
      "python\n",
      "need\n",
      "you\n",
      "python\n",
      "you\n",
      "need\n",
      "python\n",
      "need\n",
      "you\n",
      "python\n",
      "you\n",
      "need\n",
      "needyou\n",
      "\n",
      "python\n",
      "you\n",
      "need\n",
      "python\n",
      "you\n",
      "need\n",
      "python\n",
      "you\n",
      "need\n",
      "python\n",
      "you\n",
      "python\n",
      "need\n",
      "you\n",
      "need\n",
      "python\n",
      "you\n",
      "need\n",
      "python\n",
      "you\n",
      "python\n",
      "need\n",
      "you\n",
      "need\n",
      "python\n",
      "you\n",
      "python\n",
      "need\n",
      "you\n",
      "need\n",
      "python\n",
      "you\n",
      "python\n",
      "need\n",
      "you\n",
      "need\n",
      "python\n",
      "you\n",
      "need\n",
      "python\n",
      "you\n",
      "python\n",
      "need\n",
      "you\n",
      "need\n",
      "python\n",
      "you\n",
      "need\n",
      "python\n",
      "you\n",
      "need\n",
      "python\n",
      "need\n",
      "you\n",
      "python\n",
      "youneed\n",
      "\n",
      "python\n",
      "youneed\n",
      "\n",
      "python\n",
      "youneed\n",
      "\n",
      "python\n",
      "youneed\n",
      "\n",
      "python\n",
      "youneed\n",
      "\n",
      "python\n",
      "need\n",
      "you\n",
      "python\n",
      "need\n",
      "you\n",
      "python\n",
      "need\n",
      "you\n",
      "python\n",
      "need\n",
      "you\n",
      "python\n",
      "need\n",
      "you\n",
      "python\n",
      "need\n",
      "you\n",
      "python\n",
      "need\n",
      "you\n",
      "python\n",
      "need\n",
      "you\n",
      "python\n",
      "need\n",
      "python\n",
      "you\n",
      "need\n",
      "you\n",
      "python\n",
      "need\n",
      "python\n",
      "you\n",
      "need\n",
      "you\n",
      "python\n",
      "need\n",
      "python\n",
      "you\n",
      "need\n",
      "you\n",
      "python\n",
      "need\n",
      "you\n",
      "python\n"
     ]
    }
   ],
   "source": [
    "import threading\n",
    "import time\n",
    "\n",
    "# 스레드로 실행될 함수 선언\n",
    "def say(msg):\n",
    "    while True: # 무한반복\n",
    "        print(msg)\n",
    "        time.sleep(1)\n",
    "\n",
    "# 3개 스레드 생성, 시작\n",
    "for msg in ['you','need','python']:\n",
    "    t = threading.Thread(target=say, args=(msg,)) # 스레드 생성\n",
    "    # main thread 주된 스레드, t 자식 스레드 => 메인스레드 종료시 자식도 종료\n",
    "    t.daemon = True \n",
    "    t.start()\n",
    "\n",
    "# main thread 안에서 실행되는 코드\n",
    "for i in range(100): # 0~99\n",
    "    print(i)\n",
    "    time.sleep(0.1)"
   ]
  }
 ],
 "metadata": {
  "kernelspec": {
   "display_name": "test",
   "language": "python",
   "name": "python3"
  },
  "language_info": {
   "codemirror_mode": {
    "name": "ipython",
    "version": 3
   },
   "file_extension": ".py",
   "mimetype": "text/x-python",
   "name": "python",
   "nbconvert_exporter": "python",
   "pygments_lexer": "ipython3",
   "version": "3.10.14"
  }
 },
 "nbformat": 4,
 "nbformat_minor": 2
}
