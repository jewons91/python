{
 "cells": [
  {
   "cell_type": "code",
   "execution_count": 2,
   "metadata": {},
   "outputs": [],
   "source": [
    "class Programmer:\n",
    "    pass"
   ]
  },
  {
   "cell_type": "code",
   "execution_count": 3,
   "metadata": {},
   "outputs": [],
   "source": [
    "kim = Programmer()\n",
    "park = Programmer()"
   ]
  },
  {
   "cell_type": "code",
   "execution_count": 4,
   "metadata": {},
   "outputs": [],
   "source": [
    "class Service :\n",
    "    secret = '영구는 외계인이다.'"
   ]
  },
  {
   "cell_type": "code",
   "execution_count": 5,
   "metadata": {},
   "outputs": [
    {
     "name": "stdout",
     "output_type": "stream",
     "text": [
      "영구는 외계인이다.\n",
      "영구는 외계인이다.\n",
      "영구는 외계인이다.\n"
     ]
    }
   ],
   "source": [
    "pey = Service()\n",
    "kim = Service()\n",
    "print(pey.secret)\n",
    "print(kim.secret)\n",
    "print(Service.secret)"
   ]
  },
  {
   "cell_type": "code",
   "execution_count": 6,
   "metadata": {},
   "outputs": [],
   "source": [
    "class Service:\n",
    "    secret = '영구는 외계인이다.'\n",
    "    \n",
    "    # def sum(a,b):\n",
    "    #     result = a + b\n",
    "    #     print(f'{a} + {b} = {result}')\n",
    "    \n",
    "    def sum(self,a,b):\n",
    "        result = a + b\n",
    "        print(f'{a} + {b} = {result}')"
   ]
  },
  {
   "cell_type": "code",
   "execution_count": 7,
   "metadata": {},
   "outputs": [
    {
     "name": "stdout",
     "output_type": "stream",
     "text": [
      "영구는 외계인이다.\n",
      "1 + 2 = 3\n",
      "None\n"
     ]
    }
   ],
   "source": [
    "pey = Service()\n",
    "print(pey.secret)\n",
    "print(pey.sum(1,2))\n",
    "# print(Service.sum(1,2))"
   ]
  },
  {
   "cell_type": "code",
   "execution_count": 8,
   "metadata": {},
   "outputs": [],
   "source": [
    "class Service :\n",
    "    secret = '영구는 외계인'\n",
    "    \n",
    "    def sum(self,a,b):\n",
    "        result = a + b\n",
    "        print(f'{a} + {b} = {result}')"
   ]
  },
  {
   "cell_type": "code",
   "execution_count": 9,
   "metadata": {},
   "outputs": [
    {
     "name": "stdout",
     "output_type": "stream",
     "text": [
      "1 + 1 = 2\n",
      "None\n",
      "1 + 2 = 3\n",
      "None\n",
      "1 + 2 = 3\n",
      "1 + 2 = 3\n"
     ]
    }
   ],
   "source": [
    "kim = Service()\n",
    "park = Service()\n",
    "\n",
    "print(kim.sum(1,1))\n",
    "print(park.sum(1,2))\n",
    "\n",
    "slist = [kim, park]\n",
    "for stu in slist :\n",
    "    Service.sum(stu,1,2)"
   ]
  },
  {
   "cell_type": "code",
   "execution_count": 10,
   "metadata": {},
   "outputs": [],
   "source": [
    "class Service :\n",
    "    secret = '영구는 외계인'\n",
    "    \n",
    "    def __init__(self, name) -> None:\n",
    "        self.name = name\n",
    "        \n",
    "    def setName(self,name):\n",
    "        self.name = name\n",
    "        \n",
    "    def sum(self,a,b):\n",
    "        result = a + b\n",
    "        print(f'{self.name}님 {a} + {b} = {result}')\n",
    "        return None"
   ]
  },
  {
   "cell_type": "code",
   "execution_count": 12,
   "metadata": {},
   "outputs": [
    {
     "name": "stdout",
     "output_type": "stream",
     "text": [
      "홍길동님 1 + 2 = 3\n",
      "None\n",
      "Hong\n",
      "Hong님 2 + 5 = 7\n",
      "None\n",
      "고길동님 2 + 3 = 5\n",
      "None\n"
     ]
    }
   ],
   "source": [
    "kim = Service('홍길동')\n",
    "print(kim.sum(1,2))\n",
    "kim.setName('Hong')\n",
    "kim.name = 'Hong'\n",
    "print(kim.name)\n",
    "print(kim.sum(2,5))\n",
    "\n",
    "go = Service('고길동')\n",
    "# go.setName('고길동')\n",
    "print(go.sum(2,3))"
   ]
  },
  {
   "cell_type": "code",
   "execution_count": 13,
   "metadata": {},
   "outputs": [],
   "source": [
    "class HousePark:\n",
    "    lastName = '박'\n",
    "    \n",
    "    def __init__(self,firstName) -> None:\n",
    "        self.fullName = self.lastName + firstName\n",
    "    \n",
    "    def setName(self, name):\n",
    "        # self.firstName = name\n",
    "        self.fullName = self.lastName + name\n",
    "    \n",
    "    def travel(self, where):\n",
    "        print(f'{self.fullName}, {where} 여행을 가다')"
   ]
  },
  {
   "cell_type": "code",
   "execution_count": 14,
   "metadata": {},
   "outputs": [
    {
     "name": "stdout",
     "output_type": "stream",
     "text": [
      "박찬호, 영국 여행을 가다\n",
      "박찬호, 제주도 여행을 가다\n",
      "박찬호, 울릉도 여행을 가다\n",
      "박찬호, 독도 여행을 가다\n"
     ]
    }
   ],
   "source": [
    "pey = HousePark('찬호')\n",
    "pey.travel('영국')\n",
    "pey.travel('제주도')\n",
    "pey.travel('울릉도')\n",
    "pey.travel('독도')"
   ]
  },
  {
   "cell_type": "code",
   "execution_count": 19,
   "metadata": {},
   "outputs": [
    {
     "name": "stdout",
     "output_type": "stream",
     "text": [
      "박\n",
      "박페이\n",
      "박\n",
      "박찬호\n"
     ]
    }
   ],
   "source": [
    "pey = HousePark('페이')\n",
    "pey.setName('페이')\n",
    "print(pey.lastName)\n",
    "# print(pey.firstName)\n",
    "print(pey.fullName)\n",
    "\n",
    "chanho = HousePark('찬호')\n",
    "chanho.setName('찬호')\n",
    "print(chanho.lastName)\n",
    "# print(chanho.firstName)\n",
    "print(chanho.fullName)"
   ]
  },
  {
   "cell_type": "code",
   "execution_count": 24,
   "metadata": {},
   "outputs": [],
   "source": [
    "class HouseKim(HousePark):\n",
    "    pass\n",
    "    \n",
    "    lastName = '김'\n",
    "\n",
    "    def travel(self,where):\n",
    "        print(f'{self.fullName}은 {where}로 여행을 합니다.')"
   ]
  },
  {
   "cell_type": "code",
   "execution_count": 21,
   "metadata": {},
   "outputs": [
    {
     "name": "stdout",
     "output_type": "stream",
     "text": [
      "김줄리엣은 울릉도로 여행을 합니다.\n"
     ]
    }
   ],
   "source": [
    "juliet = HouseKim('줄리엣')\n",
    "juliet.travel('울릉도')"
   ]
  },
  {
   "cell_type": "code",
   "execution_count": 22,
   "metadata": {},
   "outputs": [],
   "source": [
    "class HousePark():\n",
    "    lastName = '박'\n",
    "    \n",
    "    def __init__(self,name) -> None:\n",
    "        self.fullName = self.lastName + name\n",
    "        \n",
    "    def travel(self,where):\n",
    "        print(f'{self.fullName},{where} 여행을 가다')\n",
    "    \n",
    "    def __add__(self,other):\n",
    "        print(f'{self.fullName}, {other.fullName} 결혼했네')\n",
    "    \n",
    "    def __sub__(self,other):\n",
    "        print(f'{self.fullName},{other.fullName} 헤어졌네')"
   ]
  },
  {
   "cell_type": "code",
   "execution_count": 25,
   "metadata": {},
   "outputs": [
    {
     "name": "stdout",
     "output_type": "stream",
     "text": [
      "박찬호,독도 여행을 가다\n",
      "김줄리엣은 독도로 여행을 합니다.\n",
      "김줄리엣, 박찬호 결혼했네\n",
      "박찬호,제주도 여행을 가다\n",
      "김줄리엣은 울릉도로 여행을 합니다.\n",
      "박찬호,김줄리엣 헤어졌네\n"
     ]
    }
   ],
   "source": [
    "pey = HousePark('찬호')\n",
    "juliet = HouseKim('줄리엣')\n",
    "pey.travel('독도')\n",
    "juliet.travel('독도')\n",
    "juliet + pey\n",
    "pey.travel('제주도')\n",
    "juliet.travel('울릉도')\n",
    "pey - juliet"
   ]
  }
 ],
 "metadata": {
  "kernelspec": {
   "display_name": "test",
   "language": "python",
   "name": "python3"
  },
  "language_info": {
   "codemirror_mode": {
    "name": "ipython",
    "version": 3
   },
   "file_extension": ".py",
   "mimetype": "text/x-python",
   "name": "python",
   "nbconvert_exporter": "python",
   "pygments_lexer": "ipython3",
   "version": "3.10.14"
  }
 },
 "nbformat": 4,
 "nbformat_minor": 2
}
